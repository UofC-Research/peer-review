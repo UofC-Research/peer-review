{
 "cells": [
  {
   "cell_type": "markdown",
   "id": "4b57d9e8",
   "metadata": {
    "colab_type": "text",
    "id": "view-in-github"
   },
   "source": [
    "<a href=\"https://colab.research.google.com/github/jlee2843/Peer-Review-22-23/blob/Albert-2022/API_Biorvix.ipynb\" target=\"_parent\"><img src=\"https://colab.research.google.com/assets/colab-badge.svg\" alt=\"Open In Colab\"/></a>"
   ]
  },
  {
   "cell_type": "code",
   "execution_count": 1,
   "id": "7Q304L8t4_jg",
   "metadata": {
    "id": "7Q304L8t4_jg"
   },
   "outputs": [
    {
     "name": "stdout",
     "output_type": "stream",
     "text": [
      "version: 3.9.7 | packaged by conda-forge | (default, Sep 29 2021, 19:20:46) \n",
      "[GCC 9.4.0]\n"
     ]
    }
   ],
   "source": [
    "import sys\n",
    "print(\"version:\", sys.version)"
   ]
  },
  {
   "cell_type": "code",
   "execution_count": null,
   "id": "Q3I4WKRkvcQr",
   "metadata": {
    "id": "Q3I4WKRkvcQr"
   },
   "outputs": [],
   "source": [
    "from google.colab import drive\n",
    "\n",
    "drive.mount('/content/gdrive')"
   ]
  },
  {
   "cell_type": "markdown",
   "id": "63d0a567",
   "metadata": {
    "id": "63d0a567"
   },
   "source": [
    "**Biorxiv API** information is found [here](https://api.biorxiv.org/details/medrxiv/help).<br>\n",
    "**Final edit:** December 02, 2022.<br>\n",
    "**NB:** Using Jenny's notebook  as a template\n",
    "<br>\n",
    "tqdm is used as visualization for the processing fo data. (Its manual can be found https://github.com/tqdm/tqdm#manual)"
   ]
  },
  {
   "cell_type": "markdown",
   "id": "P58Efn060Fbe",
   "metadata": {
    "id": "P58Efn060Fbe"
   },
   "source": [
    "# Common functions"
   ]
  },
  {
   "cell_type": "code",
   "execution_count": 8,
   "id": "Ep_xUfgYeUur",
   "metadata": {
    "colab": {
     "base_uri": "https://localhost:8080/"
    },
    "id": "Ep_xUfgYeUur",
    "outputId": "0ae1566f-5a5b-4a72-d617-6e3268e9783d"
   },
   "outputs": [
    {
     "name": "stdout",
     "output_type": "stream",
     "text": [
      "\u001b[33mWARNING: The directory '/home/jovyan/.cache/pip' or its parent directory is not owned or is not writable by the current user. The cache has been disabled. Check the permissions and owner of that directory. If executing pip with sudo, you should use sudo's -H flag.\u001b[0m\n",
      "Defaulting to user installation because normal site-packages is not writeable\n",
      "Requirement already satisfied: python-doi in /home/albert.leung/.local/lib/python3.9/site-packages (0.2.0)\n",
      "\u001b[33mWARNING: The directory '/home/jovyan/.cache/pip' or its parent directory is not owned or is not writable by the current user. The cache has been disabled. Check the permissions and owner of that directory. If executing pip with sudo, you should use sudo's -H flag.\u001b[0m\n",
      "Defaulting to user installation because normal site-packages is not writeable\n",
      "Collecting pyarrow\n",
      "  Downloading pyarrow-10.0.1-cp39-cp39-manylinux_2_17_x86_64.manylinux2014_x86_64.whl (35.9 MB)\n",
      "     |████████████████████████████████| 35.9 MB 3.2 MB/s            \n",
      "\u001b[?25hRequirement already satisfied: numpy>=1.16.6 in /opt/conda/lib/python3.9/site-packages (from pyarrow) (1.20.3)\n",
      "Installing collected packages: pyarrow\n",
      "\u001b[33m  WARNING: The script plasma_store is installed in '/home/albert.leung/.local/bin' which is not on PATH.\n",
      "  Consider adding this directory to PATH or, if you prefer to suppress this warning, use --no-warn-script-location.\u001b[0m\n",
      "Successfully installed pyarrow-10.0.1\n"
     ]
    }
   ],
   "source": [
    "!pip install python-doi\n",
    "!pip install pyarrow\n",
    "\n",
    "from pandas.core.internals.ops import Iterator\n",
    "#from tqdm.notebook import tqdm, trange\n",
    "from typing import Union, List\n",
    "from concurrent.futures import ThreadPoolExecutor\n",
    "from datetime import datetime\n",
    "from threading import current_thread\n",
    "import math\n",
    "import pandas as pd\n",
    "import time\n",
    "import numpy as np\n",
    "import requests\n",
    "import json\n",
    "import urllib, urllib.request\n",
    "import pathlib\n",
    "import tqdm.contrib.concurrent as tq\n",
    "import doi\n",
    "\n",
    "# common helper function\n",
    "def get_total (url) -> int:\n",
    "    json_info = get_json_data(url)\n",
    "    return json_info[\"messages\"][0][\"total\"]\n",
    "\n",
    "def get_json_data (url):\n",
    "    try:\n",
    "        request_API = requests.get(url)\n",
    "        #print(f\"{url} request_API: {request_API}\")\n",
    "        return json.loads(request_API.text)\n",
    "    except Exception as e:\n",
    "        time.sleep(120)\n",
    "        request_API = requests.get(url)\n",
    "        return json.loads(request_API.text)\n",
    "\n",
    "def get_data(url:str, loop_range:range, disable:bool):\n",
    "    #print(f\"values: {list(loop_range)}\")\n",
    "    results = []\n",
    "    #print(args)\n",
    "    results = tq.thread_map(get_json_data, (f'{url}/{cursor}' for cursor in loop_range), \n",
    "                            desc=f'get_json_data {current_thread().name}', total=len(loop_range),\n",
    "                            disable=disable, leave=False)\n",
    "    \n",
    "    return results\n",
    "\n",
    "#def get_article_detail(url, articles):\n",
    "#    result = get_data(url,articles)\n",
    "#\n",
    "#    return result\n",
    "\n",
    "def process_data(json_info, keys:List[str], cursor:int, disable:bool) -> List:\n",
    "    journal_list = [[entry + cursor] + [getValue(journal, key) for key in keys] for entry, journal in enumerate(json_info[\"collection\"])]\n",
    "    if disable is False:\n",
    "        time.sleep(0.001 * len(journal_list))\n",
    "    return journal_list\n",
    "\n",
    "def query_to_df(results, keys:List[str], col_names:List[str], loop_list:range, disable:bool) -> pd.DataFrame:\n",
    "    args = zip(results, \n",
    "               [keys for _ in loop_list],\n",
    "               loop_list,\n",
    "               [disable for _ in loop_list])\n",
    "    args = list(args)\n",
    "    total = len(args)\n",
    "    result_list = []\n",
    "    result_list = tq.thread_map(lambda p: process_data(*p), args, desc=f'processing data {current_thread().name}', total=total, leave=False, disable=disable)\n",
    "    \n",
    "    data = np.array(flatten(result_list))\n",
    "    #print(data)\n",
    "    #print(col_names)0\n",
    "    #print(f'loop_list: {loop_list}')\n",
    "    return create_df(data, col_names)\n",
    "\n",
    "# prepublish helper function\n",
    "def create_prepublish_df(df:pd.DataFrame) -> pd.DataFrame:\n",
    "    try:\n",
    "        df['Num_of_Authors'] = df.Authors.apply(lambda x: len(x.split(';')))\n",
    "        df.DOI = df.DOI.astype('str')\n",
    "        df.Title = df.Title.astype('str').map(lambda x: x.strip())\n",
    "        df.Authors = df.Authors.astype('str').map(lambda x: x.strip())\n",
    "        df.Corresponding_Authors = df.Corresponding_Authors.astype('str').map(lambda x: x.strip())\n",
    "        df.Institution = df.Institution.map(lambda x: x.strip().upper()).astype('category')\n",
    "        df.Date = df.Date.map(lambda x: convert_date(x)).astype('datetime64')\n",
    "        df.Type = df.Type.map(lambda x: x.strip().lower()).astype('category')\n",
    "        df.Category = df.Category.map(lambda x: x.strip().title()).astype('category')\n",
    "#        df.Xml = df.Xml.astype('str')\n",
    "        df.Published = df.Published.astype('str')\n",
    "    except Exception as e:\n",
    "        print(f'Error in data format:{e.args}\\n')\n",
    "        print(e.with_traceback)\n",
    "\n",
    "    return df\n",
    "\n",
    "# helper functions for published articles\n",
    "# pub = [\"preprint_doi\", \"published_doi\", \"preprint_title\", \"preprint_authors\", \"preprint_author_corresponding\", \"preprint_author_corresponding_institution\", \"preprint_category\", \"published_journal\", \"preprint_date\", \"published_date\"]\n",
    "def create_published_df(df:pd.DataFrame) ->pd.DataFrame:\n",
    "    try:\n",
    "        df['Num_of_Authors'] = df.Authors.apply(lambda x: len(x.split(';')))\n",
    "        df.DOI = df.DOI.astype('str')\n",
    "        df.pub_DOI = df.pub_DOI.astype('str')\n",
    "        df.Title = df.Title.astype('str').map(lambda x: x.strip())\n",
    "        df.Authors = df.Authors.astype('str').map(lambda x: x.replace('\\'','').strip())\n",
    "        df.Corresponding_Authors = df.Corresponding_Authors.astype('str').str.strip()\n",
    "        df.Institution = df.Institution.map(lambda x: x.strip().upper()).astype('category')\n",
    "        df.Category = df.Category.map(lambda x: x.strip().title()).astype('category')\n",
    "        df.Journal = df.Journal.astype('str').map(lambda x: x.strip().title()).astype('category')\n",
    "        #tqdm.pandas(desc=\"Preprint_Date conversion!\")\n",
    "        df.Preprint_Date = df.Preprint_Date.map(lambda x: convert_date(x)).astype('datetime64')\n",
    "        #tqdm.pandas(desc=\"Published_Date conversion!\")\n",
    "        df.Published_Date = df.Published_Date.map(lambda x: convert_date(x)).astype('datetime64')\n",
    "    except Exception as e:\n",
    "        print(f'Error in data format:{e.args}\\n')\n",
    "        print(e.with_traceback)\n",
    "    #    print(f'Preprint_Date: {df.Preprint_Date} Published_Date: {df.Published_Date}')\n",
    "#\n",
    "    return df\n",
    "\n",
    "def convert_date(value:str) -> datetime:\n",
    "    try:\n",
    "        return datetime.strptime(value.strip().split(':')[0], '%Y-%m-%d')\n",
    "    except Exception as e:\n",
    "        print(e)\n",
    "        return pd.NaT\n",
    "\n",
    "# Now you can use `progress_apply` instead of `apply`\n",
    "# and `progress_map` instead of `map`\n",
    "        #df.Published_Date = datetime.strptime(df.Published_Date.str.strip().str.split(':')[0], '%Y-%m-%d')\n",
    "\n",
    "def getValue(journal, key):\n",
    "    result = np.NaN\n",
    "    try:\n",
    "        result = journal[key]\n",
    "    except Exception as e:\n",
    "        print (f'key: {key} journal: {journal}\\n{e}')\n",
    "        raise e\n",
    "\n",
    "    finally:\n",
    "        return result\n",
    "  \n",
    "def get_big_data(path:str, url:str, cursor:int, json_keys:List[str], col_names:List[str], step:int, disable:bool):\n",
    "    result_list = [get_json_data(f'{url}/{cursor}')]\n",
    "    df = query_to_df(result_list, json_keys, col_names, range(cursor, cursor + step, step), disable)\n",
    "    df.to_parquet(pathlib.Path(f'{path}/{datetime.utcnow().timestamp()}.parquet'))\n",
    "    #time.sleep(0.001)  # to visualize the progress\n",
    "\n",
    "def multithread_processor(path:str, url:str, json_keys:List[str], col_names:List[str], step:int, loop_range:range, disable:bool):\n",
    "    #print(f\"values: {list(loop_range)}\")\n",
    "    results = []\n",
    "    args = [(path, url, cursor, json_keys, col_names, step, disable) for cursor in loop_range]\n",
    "    #print(f'args: {len(args)}\\n{args}')\n",
    "    tq.thread_map(lambda p: get_big_data(*p), args, desc='get_big_data', total=len(args))\n",
    "\n",
    "def process_doi_data(path:str, url:str, doi:pd.Series, meta: List, col_names: List, item:int, disable:bool = False):\n",
    "    results = get_data(url, doi[item:item+step], disable)\n",
    "    tmp = list(results)\n",
    "    df = query_to_df([r for r in tmp], meta, col_names, \n",
    "                     range(item, item + (len(tmp) * step), step), disable)\n",
    "    df.to_parquet(pathlib.Path(f'{path}/{datetime.utcnow().timestamp()}.parquet'))\n",
    "\n",
    "def checkDOI(x:str):\n",
    "  if doi.validate_doi(x.strip()) is None:\n",
    "    raise Exception(f'invalid doi: {x.strip()}')\n",
    "  else:\n",
    "    return x.strip()\n",
    "\n",
    "freq_count = lambda x,y: x[y].value_counts()\n",
    "\n",
    "flatten = lambda y: sorted([sublist for inner in y for sublist in inner],\n",
    "                           key=lambda x:x[0])\n",
    "\n",
    "create_df = lambda x, y: pd.DataFrame(data=x[:, 1:], index=x[:, 0], columns=y)\n"
   ]
  },
  {
   "cell_type": "markdown",
   "id": "3E24xcwG1kXQ",
   "metadata": {
    "id": "3E24xcwG1kXQ",
    "tags": []
   },
   "source": [
    "## Case \\#1: Pre-publish Data query for given timeframe"
   ]
  },
  {
   "cell_type": "code",
   "execution_count": 6,
   "id": "1WDh9gs9XfMp",
   "metadata": {
    "id": "1WDh9gs9XfMp"
   },
   "outputs": [],
   "source": [
    "# \"global\" variables\n",
    "base_url: str = 'https://api.biorxiv.org'\n",
    "query_type: str = 'details'\n",
    "server: str = 'biorxiv'\n",
    "start_interval: str = '2011-01-01'\n",
    "end_interval: str = '2020-12-31'\n",
    "step = 100\n"
   ]
  },
  {
   "cell_type": "markdown",
   "id": "TLRswUpf1zlx",
   "metadata": {
    "id": "TLRswUpf1zlx",
    "tags": []
   },
   "source": [
    "### BioRvix Server"
   ]
  },
  {
   "cell_type": "code",
   "execution_count": 9,
   "id": "cSYP2rLX05cQ",
   "metadata": {
    "colab": {
     "base_uri": "https://localhost:8080/",
     "height": 121,
     "referenced_widgets": [
      "4edf0b643db94dfeae6db7b8a0519cdb",
      "7c45fe41b4dd4db7a0a1c964f8c68e7c",
      "af6fac0308a34252af8aa82673b98406",
      "5993c8519cc3465eae2f87b2318414c4",
      "86847fee2c014f76a008a321f5209a4a",
      "01b6eddd2404428bb81a4547d60444b3",
      "aa058be5dc914ec28a81bff85de7168e",
      "543c5ba3a78946f58b91fe5bd0e7f1d1",
      "49032de80ac44169b9a8337bed34ead2",
      "1bbfab880f2149e685d407db49da94a1",
      "e4a56b5756c94cc68e6b4f9ba88f66e8"
     ]
    },
    "id": "cSYP2rLX05cQ",
    "outputId": "24c52150-3538-4da7-cd60-1bcda53db0a3"
   },
   "outputs": [
    {
     "data": {
      "application/vnd.jupyter.widget-view+json": {
       "model_id": "f68529b96f404e6ebc8197b8ce718249",
       "version_major": 2,
       "version_minor": 0
      },
      "text/plain": [
       "get_big_data:   0%|          | 0/1481 [00:00<?, ?it/s]"
      ]
     },
     "metadata": {},
     "output_type": "display_data"
    }
   ],
   "source": [
    "# \"local\" variables\n",
    "url: str = f'{base_url}/{query_type}/{server}/{start_interval}/{end_interval}'\n",
    "path: str = f'data/prepub-{query_type}-{server}-{start_interval}!{end_interval}-{datetime.now()}'\n",
    "step = 100\n",
    "journal_df = None\n",
    "\n",
    "#finding the number of records for a given time period\n",
    "#tmp = f\"{base_url}/{start_interval}/{end_interval}\"\n",
    "#tmp = 'https://api.biorxiv.org/details/biorxiv/2020-08-21/2020-08-28'\n",
    "\n",
    "#create directory\n",
    "pathlib.Path(path).mkdir(parents=True, exist_ok=True)\n",
    "\n",
    "multithread_processor(path, url, \n",
    "                      [\"doi\", \"title\", \"authors\", \"author_corresponding\", \"author_corresponding_institution\", \"date\", \"version\", \"type\", \"category\", \"jatsxml\", \"published\"],\n",
    "                      [\"DOI\", \"Title\", \"Authors\", \"Corresponding_Authors\", \"Institution\", \"Date\", \"Version\", \"Type\", \"Category\", \"Xml\", \"Published\"],\n",
    "                      step, range(0, get_total(url), step), True)\n",
    "\n"
   ]
  },
  {
   "cell_type": "code",
   "execution_count": null,
   "id": "je_tNnPyKoNG",
   "metadata": {
    "id": "je_tNnPyKoNG"
   },
   "outputs": [],
   "source": [
    "journal_df = pd.read_parquet(pathlib.Path(path))\n",
    "journal_df = create_prepublish_df(journal_df)\n",
    "\n",
    "#display(journal_df)"
   ]
  },
  {
   "cell_type": "markdown",
   "id": "1M7lIyNEEx42",
   "metadata": {
    "id": "1M7lIyNEEx42"
   },
   "source": [
    "#### Cleaning and fixing missing data"
   ]
  },
  {
   "cell_type": "code",
   "execution_count": null,
   "id": "V2Ix_MjB2W-e",
   "metadata": {
    "colab": {
     "base_uri": "https://localhost:8080/",
     "height": 1000
    },
    "id": "V2Ix_MjB2W-e",
    "outputId": "f1e02c53-fef5-4a3b-8245-d6bb10b55a3b"
   },
   "outputs": [
    {
     "data": {
      "text/html": [
       "\n",
       "  <div id=\"df-1fb6ba5e-2525-4cdb-a55d-3a127570c963\">\n",
       "    <div class=\"colab-df-container\">\n",
       "      <div>\n",
       "<style scoped>\n",
       "    .dataframe tbody tr th:only-of-type {\n",
       "        vertical-align: middle;\n",
       "    }\n",
       "\n",
       "    .dataframe tbody tr th {\n",
       "        vertical-align: top;\n",
       "    }\n",
       "\n",
       "    .dataframe thead th {\n",
       "        text-align: right;\n",
       "    }\n",
       "</style>\n",
       "<table border=\"1\" class=\"dataframe\">\n",
       "  <thead>\n",
       "    <tr style=\"text-align: right;\">\n",
       "      <th></th>\n",
       "      <th>DOI</th>\n",
       "      <th>Title</th>\n",
       "      <th>Authors</th>\n",
       "      <th>Corresponding_Authors</th>\n",
       "      <th>Institution</th>\n",
       "      <th>Date</th>\n",
       "      <th>Version</th>\n",
       "      <th>Type</th>\n",
       "      <th>Category</th>\n",
       "      <th>Xml</th>\n",
       "      <th>Published</th>\n",
       "      <th>Num_of_Authors</th>\n",
       "    </tr>\n",
       "  </thead>\n",
       "  <tbody>\n",
       "    <tr>\n",
       "      <th>12153</th>\n",
       "      <td>10.1101/092171</td>\n",
       "      <td>Darwin: A Hardware-acceleration Framework for ...</td>\n",
       "      <td>Turakhia, Y.; Zheng, K. J.; Bejerano, G.; Dall...</td>\n",
       "      <td></td>\n",
       "      <td>STANFORD UNIVERSITY</td>\n",
       "      <td>2017-01-15</td>\n",
       "      <td>1</td>\n",
       "      <td>new results</td>\n",
       "      <td>Genomics</td>\n",
       "      <td>https://www.biorxiv.org/content/early/2017/01/...</td>\n",
       "      <td>10.1109/MM.2019.2910009</td>\n",
       "      <td>4</td>\n",
       "    </tr>\n",
       "    <tr>\n",
       "      <th>12154</th>\n",
       "      <td>10.1101/092171</td>\n",
       "      <td>Darwin: A Hardware-acceleration Framework for ...</td>\n",
       "      <td>Turakhia, Y.; Zheng, K. J.; Bejerano, G.; Dall...</td>\n",
       "      <td></td>\n",
       "      <td>STANFORD UNIVERSITY</td>\n",
       "      <td>2017-01-24</td>\n",
       "      <td>2</td>\n",
       "      <td>new results</td>\n",
       "      <td>Genomics</td>\n",
       "      <td>https://www.biorxiv.org/content/early/2017/01/...</td>\n",
       "      <td>10.1109/MM.2019.2910009</td>\n",
       "      <td>4</td>\n",
       "    </tr>\n",
       "    <tr>\n",
       "      <th>12673</th>\n",
       "      <td>10.1101/104778</td>\n",
       "      <td>Engaging narratives evoke similar neural activ...</td>\n",
       "      <td>Cohen, S. S.; Henin, S.; Parra, L. C.</td>\n",
       "      <td></td>\n",
       "      <td>THE CITY COLLEGE OF THE CITY UNIVERSITY OF NEW...</td>\n",
       "      <td>2017-01-31</td>\n",
       "      <td>1</td>\n",
       "      <td>new results</td>\n",
       "      <td>Neuroscience</td>\n",
       "      <td>https://www.biorxiv.org/content/early/2017/01/...</td>\n",
       "      <td>10.1038/s41598-017-04402-4</td>\n",
       "      <td>3</td>\n",
       "    </tr>\n",
       "    <tr>\n",
       "      <th>80783</th>\n",
       "      <td>10.1101/708800</td>\n",
       "      <td>CLEC-2 suppresses calcification in cultured os...</td>\n",
       "      <td>Kanai, T.; Sawa, Y.; Takara, K.; Kajiwara, K.;...</td>\n",
       "      <td></td>\n",
       "      <td>OKAYAMA UNIVERSITY GRADUATE SCHOOL OF MEDICINE...</td>\n",
       "      <td>2019-07-19</td>\n",
       "      <td>1</td>\n",
       "      <td>new results</td>\n",
       "      <td>Cell Biology</td>\n",
       "      <td>https://www.biorxiv.org/content/early/2019/07/...</td>\n",
       "      <td>NA</td>\n",
       "      <td>8</td>\n",
       "    </tr>\n",
       "    <tr>\n",
       "      <th>94799</th>\n",
       "      <td>10.1101/843763</td>\n",
       "      <td>STRESS-INDUCED GENETIC CHANGE IN FLAX REVEALS ...</td>\n",
       "      <td>Li, X.</td>\n",
       "      <td></td>\n",
       "      <td>CASE WESTERN RESERVE UNIVERSITY</td>\n",
       "      <td>2019-11-15</td>\n",
       "      <td>1</td>\n",
       "      <td>new results</td>\n",
       "      <td>Genomics</td>\n",
       "      <td>https://www.biorxiv.org/content/early/2019/11/...</td>\n",
       "      <td>NA</td>\n",
       "      <td>1</td>\n",
       "    </tr>\n",
       "    <tr>\n",
       "      <th>...</th>\n",
       "      <td>...</td>\n",
       "      <td>...</td>\n",
       "      <td>...</td>\n",
       "      <td>...</td>\n",
       "      <td>...</td>\n",
       "      <td>...</td>\n",
       "      <td>...</td>\n",
       "      <td>...</td>\n",
       "      <td>...</td>\n",
       "      <td>...</td>\n",
       "      <td>...</td>\n",
       "      <td>...</td>\n",
       "    </tr>\n",
       "    <tr>\n",
       "      <th>9616</th>\n",
       "      <td>10.1101/079533</td>\n",
       "      <td>Chiral vortex dynamics on membranes is an intr...</td>\n",
       "      <td>Diego Ramirez;Daniela A. Garcia-Soriano;Ana Ra...</td>\n",
       "      <td>Petra  Schwille</td>\n",
       "      <td>MAX PLANCK INSTITUTE FOR BIOCHEMISTRY</td>\n",
       "      <td>2016-10-07</td>\n",
       "      <td>1</td>\n",
       "      <td>new results</td>\n",
       "      <td></td>\n",
       "      <td>https://www.biorxiv.org/content/early/2016/10/...</td>\n",
       "      <td>NA</td>\n",
       "      <td>7</td>\n",
       "    </tr>\n",
       "    <tr>\n",
       "      <th>17763</th>\n",
       "      <td>10.1101/146035</td>\n",
       "      <td>The Emergent Connectome in Caenorhabditis eleg...</td>\n",
       "      <td>- DevoWorm Group,  ; Alicea, B. J.</td>\n",
       "      <td>Bradly J. Alicea</td>\n",
       "      <td>ORTHOGONAL RESEARCH</td>\n",
       "      <td>2017-06-05</td>\n",
       "      <td>1</td>\n",
       "      <td>new results</td>\n",
       "      <td>Bioinformatics</td>\n",
       "      <td>https://www.biorxiv.org/content/early/2017/06/...</td>\n",
       "      <td>10.1016/j.biosystems.2018.09.016</td>\n",
       "      <td>2</td>\n",
       "    </tr>\n",
       "    <tr>\n",
       "      <th>18592</th>\n",
       "      <td>10.1101/152553</td>\n",
       "      <td>Project MinE: study design and pilot analyses ...</td>\n",
       "      <td>- Project MinE Consortium,  ; Van Rheenen, W.;...</td>\n",
       "      <td>Jan H Veldink</td>\n",
       "      <td>DEPARTMENT OF NEUROLOGY, BRAIN CENTER RUDOLF M...</td>\n",
       "      <td>2017-06-20</td>\n",
       "      <td>1</td>\n",
       "      <td>new results</td>\n",
       "      <td>Genetics</td>\n",
       "      <td>https://www.biorxiv.org/content/early/2017/06/...</td>\n",
       "      <td>10.1038/s41431-018-0177-4</td>\n",
       "      <td>37</td>\n",
       "    </tr>\n",
       "    <tr>\n",
       "      <th>19852</th>\n",
       "      <td>10.1101/143933</td>\n",
       "      <td>The Multiple Sclerosis Genomic Map: Role of pe...</td>\n",
       "      <td>- International Multiple Sclerosis Genetics Co...</td>\n",
       "      <td>Philip L. De Jager</td>\n",
       "      <td>COLUMBIA UNIVERSITY MEDICAL CENTER, NEW YORK, ...</td>\n",
       "      <td>2017-07-13</td>\n",
       "      <td>1</td>\n",
       "      <td>new results</td>\n",
       "      <td>Genetics</td>\n",
       "      <td>https://www.biorxiv.org/content/early/2017/07/...</td>\n",
       "      <td>10.1126/science.aav7188</td>\n",
       "      <td>39</td>\n",
       "    </tr>\n",
       "    <tr>\n",
       "      <th>20376</th>\n",
       "      <td>10.1101/167577</td>\n",
       "      <td>Genome-wide association analyses identify 44 r...</td>\n",
       "      <td>- Major Depressive Disorder Working Group of t...</td>\n",
       "      <td>Naomi R. Wray</td>\n",
       "      <td>UNIVERSITY OF QUEENSLAND</td>\n",
       "      <td>2017-07-24</td>\n",
       "      <td>1</td>\n",
       "      <td>new results</td>\n",
       "      <td>Genetics</td>\n",
       "      <td>https://www.biorxiv.org/content/early/2017/07/...</td>\n",
       "      <td>10.1038/s41588-018-0090-3</td>\n",
       "      <td>3</td>\n",
       "    </tr>\n",
       "  </tbody>\n",
       "</table>\n",
       "<p>105 rows × 12 columns</p>\n",
       "</div>\n",
       "      <button class=\"colab-df-convert\" onclick=\"convertToInteractive('df-1fb6ba5e-2525-4cdb-a55d-3a127570c963')\"\n",
       "              title=\"Convert this dataframe to an interactive table.\"\n",
       "              style=\"display:none;\">\n",
       "        \n",
       "  <svg xmlns=\"http://www.w3.org/2000/svg\" height=\"24px\"viewBox=\"0 0 24 24\"\n",
       "       width=\"24px\">\n",
       "    <path d=\"M0 0h24v24H0V0z\" fill=\"none\"/>\n",
       "    <path d=\"M18.56 5.44l.94 2.06.94-2.06 2.06-.94-2.06-.94-.94-2.06-.94 2.06-2.06.94zm-11 1L8.5 8.5l.94-2.06 2.06-.94-2.06-.94L8.5 2.5l-.94 2.06-2.06.94zm10 10l.94 2.06.94-2.06 2.06-.94-2.06-.94-.94-2.06-.94 2.06-2.06.94z\"/><path d=\"M17.41 7.96l-1.37-1.37c-.4-.4-.92-.59-1.43-.59-.52 0-1.04.2-1.43.59L10.3 9.45l-7.72 7.72c-.78.78-.78 2.05 0 2.83L4 21.41c.39.39.9.59 1.41.59.51 0 1.02-.2 1.41-.59l7.78-7.78 2.81-2.81c.8-.78.8-2.07 0-2.86zM5.41 20L4 18.59l7.72-7.72 1.47 1.35L5.41 20z\"/>\n",
       "  </svg>\n",
       "      </button>\n",
       "      \n",
       "  <style>\n",
       "    .colab-df-container {\n",
       "      display:flex;\n",
       "      flex-wrap:wrap;\n",
       "      gap: 12px;\n",
       "    }\n",
       "\n",
       "    .colab-df-convert {\n",
       "      background-color: #E8F0FE;\n",
       "      border: none;\n",
       "      border-radius: 50%;\n",
       "      cursor: pointer;\n",
       "      display: none;\n",
       "      fill: #1967D2;\n",
       "      height: 32px;\n",
       "      padding: 0 0 0 0;\n",
       "      width: 32px;\n",
       "    }\n",
       "\n",
       "    .colab-df-convert:hover {\n",
       "      background-color: #E2EBFA;\n",
       "      box-shadow: 0px 1px 2px rgba(60, 64, 67, 0.3), 0px 1px 3px 1px rgba(60, 64, 67, 0.15);\n",
       "      fill: #174EA6;\n",
       "    }\n",
       "\n",
       "    [theme=dark] .colab-df-convert {\n",
       "      background-color: #3B4455;\n",
       "      fill: #D2E3FC;\n",
       "    }\n",
       "\n",
       "    [theme=dark] .colab-df-convert:hover {\n",
       "      background-color: #434B5C;\n",
       "      box-shadow: 0px 1px 3px 1px rgba(0, 0, 0, 0.15);\n",
       "      filter: drop-shadow(0px 1px 2px rgba(0, 0, 0, 0.3));\n",
       "      fill: #FFFFFF;\n",
       "    }\n",
       "  </style>\n",
       "\n",
       "      <script>\n",
       "        const buttonEl =\n",
       "          document.querySelector('#df-1fb6ba5e-2525-4cdb-a55d-3a127570c963 button.colab-df-convert');\n",
       "        buttonEl.style.display =\n",
       "          google.colab.kernel.accessAllowed ? 'block' : 'none';\n",
       "\n",
       "        async function convertToInteractive(key) {\n",
       "          const element = document.querySelector('#df-1fb6ba5e-2525-4cdb-a55d-3a127570c963');\n",
       "          const dataTable =\n",
       "            await google.colab.kernel.invokeFunction('convertToInteractive',\n",
       "                                                     [key], {});\n",
       "          if (!dataTable) return;\n",
       "\n",
       "          const docLinkHtml = 'Like what you see? Visit the ' +\n",
       "            '<a target=\"_blank\" href=https://colab.research.google.com/notebooks/data_table.ipynb>data table notebook</a>'\n",
       "            + ' to learn more about interactive tables.';\n",
       "          element.innerHTML = '';\n",
       "          dataTable['output_type'] = 'display_data';\n",
       "          await google.colab.output.renderOutput(dataTable, element);\n",
       "          const docLink = document.createElement('div');\n",
       "          docLink.innerHTML = docLinkHtml;\n",
       "          element.appendChild(docLink);\n",
       "        }\n",
       "      </script>\n",
       "    </div>\n",
       "  </div>\n",
       "  "
      ],
      "text/plain": [
       "                  DOI                                              Title  \\\n",
       "12153  10.1101/092171  Darwin: A Hardware-acceleration Framework for ...   \n",
       "12154  10.1101/092171  Darwin: A Hardware-acceleration Framework for ...   \n",
       "12673  10.1101/104778  Engaging narratives evoke similar neural activ...   \n",
       "80783  10.1101/708800  CLEC-2 suppresses calcification in cultured os...   \n",
       "94799  10.1101/843763  STRESS-INDUCED GENETIC CHANGE IN FLAX REVEALS ...   \n",
       "...               ...                                                ...   \n",
       "9616   10.1101/079533  Chiral vortex dynamics on membranes is an intr...   \n",
       "17763  10.1101/146035  The Emergent Connectome in Caenorhabditis eleg...   \n",
       "18592  10.1101/152553  Project MinE: study design and pilot analyses ...   \n",
       "19852  10.1101/143933  The Multiple Sclerosis Genomic Map: Role of pe...   \n",
       "20376  10.1101/167577  Genome-wide association analyses identify 44 r...   \n",
       "\n",
       "                                                 Authors  \\\n",
       "12153  Turakhia, Y.; Zheng, K. J.; Bejerano, G.; Dall...   \n",
       "12154  Turakhia, Y.; Zheng, K. J.; Bejerano, G.; Dall...   \n",
       "12673              Cohen, S. S.; Henin, S.; Parra, L. C.   \n",
       "80783  Kanai, T.; Sawa, Y.; Takara, K.; Kajiwara, K.;...   \n",
       "94799                                             Li, X.   \n",
       "...                                                  ...   \n",
       "9616   Diego Ramirez;Daniela A. Garcia-Soriano;Ana Ra...   \n",
       "17763                 - DevoWorm Group,  ; Alicea, B. J.   \n",
       "18592  - Project MinE Consortium,  ; Van Rheenen, W.;...   \n",
       "19852  - International Multiple Sclerosis Genetics Co...   \n",
       "20376  - Major Depressive Disorder Working Group of t...   \n",
       "\n",
       "      Corresponding_Authors  \\\n",
       "12153                         \n",
       "12154                         \n",
       "12673                         \n",
       "80783                         \n",
       "94799                         \n",
       "...                     ...   \n",
       "9616        Petra  Schwille   \n",
       "17763      Bradly J. Alicea   \n",
       "18592         Jan H Veldink   \n",
       "19852    Philip L. De Jager   \n",
       "20376         Naomi R. Wray   \n",
       "\n",
       "                                             Institution       Date Version  \\\n",
       "12153                                STANFORD UNIVERSITY 2017-01-15       1   \n",
       "12154                                STANFORD UNIVERSITY 2017-01-24       2   \n",
       "12673  THE CITY COLLEGE OF THE CITY UNIVERSITY OF NEW... 2017-01-31       1   \n",
       "80783  OKAYAMA UNIVERSITY GRADUATE SCHOOL OF MEDICINE... 2019-07-19       1   \n",
       "94799                    CASE WESTERN RESERVE UNIVERSITY 2019-11-15       1   \n",
       "...                                                  ...        ...     ...   \n",
       "9616               MAX PLANCK INSTITUTE FOR BIOCHEMISTRY 2016-10-07       1   \n",
       "17763                                ORTHOGONAL RESEARCH 2017-06-05       1   \n",
       "18592  DEPARTMENT OF NEUROLOGY, BRAIN CENTER RUDOLF M... 2017-06-20       1   \n",
       "19852  COLUMBIA UNIVERSITY MEDICAL CENTER, NEW YORK, ... 2017-07-13       1   \n",
       "20376                           UNIVERSITY OF QUEENSLAND 2017-07-24       1   \n",
       "\n",
       "              Type        Category  \\\n",
       "12153  new results        Genomics   \n",
       "12154  new results        Genomics   \n",
       "12673  new results    Neuroscience   \n",
       "80783  new results    Cell Biology   \n",
       "94799  new results        Genomics   \n",
       "...            ...             ...   \n",
       "9616   new results                   \n",
       "17763  new results  Bioinformatics   \n",
       "18592  new results        Genetics   \n",
       "19852  new results        Genetics   \n",
       "20376  new results        Genetics   \n",
       "\n",
       "                                                     Xml  \\\n",
       "12153  https://www.biorxiv.org/content/early/2017/01/...   \n",
       "12154  https://www.biorxiv.org/content/early/2017/01/...   \n",
       "12673  https://www.biorxiv.org/content/early/2017/01/...   \n",
       "80783  https://www.biorxiv.org/content/early/2019/07/...   \n",
       "94799  https://www.biorxiv.org/content/early/2019/11/...   \n",
       "...                                                  ...   \n",
       "9616   https://www.biorxiv.org/content/early/2016/10/...   \n",
       "17763  https://www.biorxiv.org/content/early/2017/06/...   \n",
       "18592  https://www.biorxiv.org/content/early/2017/06/...   \n",
       "19852  https://www.biorxiv.org/content/early/2017/07/...   \n",
       "20376  https://www.biorxiv.org/content/early/2017/07/...   \n",
       "\n",
       "                              Published Num_of_Authors  \n",
       "12153           10.1109/MM.2019.2910009              4  \n",
       "12154           10.1109/MM.2019.2910009              4  \n",
       "12673        10.1038/s41598-017-04402-4              3  \n",
       "80783                                NA              8  \n",
       "94799                                NA              1  \n",
       "...                                 ...            ...  \n",
       "9616                                 NA              7  \n",
       "17763  10.1016/j.biosystems.2018.09.016              2  \n",
       "18592         10.1038/s41431-018-0177-4             37  \n",
       "19852           10.1126/science.aav7188             39  \n",
       "20376         10.1038/s41588-018-0090-3              3  \n",
       "\n",
       "[105 rows x 12 columns]"
      ]
     },
     "metadata": {},
     "output_type": "display_data"
    }
   ],
   "source": [
    "import re\n",
    "pd.options.mode.use_inf_as_na = True # this option check for empty strings as well\n",
    "\n",
    "jl_fix_df = pd.DataFrame(columns=journal_df.columns)\n",
    "for col in journal_df:\n",
    "    jl_fix_df = pd.concat([jl_fix_df, journal_df[journal_df[col].isna()]])\n",
    "    jl_fix_df = pd.concat([jl_fix_df, journal_df[journal_df[col] == '']])\n",
    "\n",
    "pattern = re.compile('^-|$-')\n",
    "#display(journal_df[journal_df.Authors.str.contains(pattern)])\n",
    "jl_fix_df = pd.concat([jl_fix_df, journal_df[journal_df.Authors.str.contains(pattern)]])\n",
    "jl_fix_df.to_csv('data/data_fixing.csv')\n",
    "display(jl_fix_df)"
   ]
  },
  {
   "cell_type": "code",
   "execution_count": null,
   "id": "XpQfyBrGEvR_",
   "metadata": {
    "id": "XpQfyBrGEvR_"
   },
   "outputs": [],
   "source": [
    "fixed_df = pd.read_csv('')\n",
    "journal_df.merge(fixed_df, 'left', left_index=True)"
   ]
  },
  {
   "cell_type": "code",
   "execution_count": null,
   "id": "WTnCG-hREvPS",
   "metadata": {
    "colab": {
     "base_uri": "https://localhost:8080/",
     "height": 3436
    },
    "id": "WTnCG-hREvPS",
    "outputId": "14ddcf93-a489-4d2c-bddd-9a370ba88408"
   },
   "outputs": [
    {
     "data": {
      "text/html": [
       "\n",
       "  <div id=\"df-2a613d94-1645-4bad-a078-b4b0f1d1a4dd\">\n",
       "    <div class=\"colab-df-container\">\n",
       "      <div>\n",
       "<style scoped>\n",
       "    .dataframe tbody tr th:only-of-type {\n",
       "        vertical-align: middle;\n",
       "    }\n",
       "\n",
       "    .dataframe tbody tr th {\n",
       "        vertical-align: top;\n",
       "    }\n",
       "\n",
       "    .dataframe thead th {\n",
       "        text-align: right;\n",
       "    }\n",
       "</style>\n",
       "<table border=\"1\" class=\"dataframe\">\n",
       "  <thead>\n",
       "    <tr style=\"text-align: right;\">\n",
       "      <th></th>\n",
       "      <th>DOI</th>\n",
       "      <th>Title</th>\n",
       "      <th>Authors</th>\n",
       "      <th>Corresponding_Authors</th>\n",
       "      <th>Institution</th>\n",
       "      <th>Date</th>\n",
       "      <th>Version</th>\n",
       "      <th>Type</th>\n",
       "      <th>Category</th>\n",
       "      <th>Xml</th>\n",
       "      <th>Published</th>\n",
       "      <th>Num_of_Authors</th>\n",
       "    </tr>\n",
       "  </thead>\n",
       "  <tbody>\n",
       "    <tr>\n",
       "      <th>0</th>\n",
       "      <td>10.1101/001891</td>\n",
       "      <td>Population genomics of Saccharomyces cerevisia...</td>\n",
       "      <td>Carlotta De Filippo;Monica Di Paola;Irene Stef...</td>\n",
       "      <td>Duccio  Cavalieri</td>\n",
       "      <td>FONDAZIONE E. MACH (FEM)</td>\n",
       "      <td>2014-01-17</td>\n",
       "      <td>1</td>\n",
       "      <td>new results</td>\n",
       "      <td>Evolutionary Biology</td>\n",
       "      <td>https://www.biorxiv.org/content/early/2014/01/...</td>\n",
       "      <td>NA</td>\n",
       "      <td>19</td>\n",
       "    </tr>\n",
       "    <tr>\n",
       "      <th>1</th>\n",
       "      <td>10.1101/001867</td>\n",
       "      <td>Estimating seed bank accumulation and dynamics...</td>\n",
       "      <td>Meaghan E. Jenkins;David Morrison;Tony D. Auld;</td>\n",
       "      <td>David  Morrison</td>\n",
       "      <td>SWEDISH UNIVERSITY OF AGRICULTURAL SCIENCES</td>\n",
       "      <td>2014-01-17</td>\n",
       "      <td>1</td>\n",
       "      <td>new results</td>\n",
       "      <td>Ecology</td>\n",
       "      <td>https://www.biorxiv.org/content/early/2014/01/...</td>\n",
       "      <td>NA</td>\n",
       "      <td>4</td>\n",
       "    </tr>\n",
       "    <tr>\n",
       "      <th>2</th>\n",
       "      <td>10.1101/001875</td>\n",
       "      <td>How and where to look for tRNAs in Metazoan mi...</td>\n",
       "      <td>David Morrison;</td>\n",
       "      <td>David  Morrison</td>\n",
       "      <td>SWEDISH UNIVERSITY OF AGRICULTURAL SCIENCES</td>\n",
       "      <td>2014-01-17</td>\n",
       "      <td>1</td>\n",
       "      <td>new results</td>\n",
       "      <td>Molecular Biology</td>\n",
       "      <td>https://www.biorxiv.org/content/early/2014/01/...</td>\n",
       "      <td>NA</td>\n",
       "      <td>2</td>\n",
       "    </tr>\n",
       "    <tr>\n",
       "      <th>3</th>\n",
       "      <td>10.1101/001875</td>\n",
       "      <td>How and where to look for tRNAs in Metazoan mi...</td>\n",
       "      <td>David Morrison;</td>\n",
       "      <td>David  Morrison</td>\n",
       "      <td>SWEDISH UNIVERSITY OF AGRICULTURAL SCIENCES</td>\n",
       "      <td>2014-01-22</td>\n",
       "      <td>2</td>\n",
       "      <td>new results</td>\n",
       "      <td>Molecular Biology</td>\n",
       "      <td>https://www.biorxiv.org/content/early/2014/01/...</td>\n",
       "      <td>NA</td>\n",
       "      <td>2</td>\n",
       "    </tr>\n",
       "    <tr>\n",
       "      <th>6</th>\n",
       "      <td>10.1101/001818</td>\n",
       "      <td>Emergence of structural and dynamical properti...</td>\n",
       "      <td>Samir Suweis;Filippo Simini;Jayanth Banavar;Am...</td>\n",
       "      <td>Samir  Suweis</td>\n",
       "      <td>UNIVERSIYT OF PADOVA</td>\n",
       "      <td>2014-01-14</td>\n",
       "      <td>1</td>\n",
       "      <td>new results</td>\n",
       "      <td>Ecology</td>\n",
       "      <td>https://www.biorxiv.org/content/early/2014/01/...</td>\n",
       "      <td>NA</td>\n",
       "      <td>5</td>\n",
       "    </tr>\n",
       "    <tr>\n",
       "      <th>...</th>\n",
       "      <td>...</td>\n",
       "      <td>...</td>\n",
       "      <td>...</td>\n",
       "      <td>...</td>\n",
       "      <td>...</td>\n",
       "      <td>...</td>\n",
       "      <td>...</td>\n",
       "      <td>...</td>\n",
       "      <td>...</td>\n",
       "      <td>...</td>\n",
       "      <td>...</td>\n",
       "      <td>...</td>\n",
       "    </tr>\n",
       "    <tr>\n",
       "      <th>148025</th>\n",
       "      <td>10.1101/2020.12.31.424934</td>\n",
       "      <td>Multivalent polymers can control phase boundar...</td>\n",
       "      <td>Zumbro, E.; Alexander-Katz, A.</td>\n",
       "      <td>Alfredo  Alexander-Katz</td>\n",
       "      <td>MASSACHUSETTS INSTITUTE OF TECHNOLOGY</td>\n",
       "      <td>2020-12-31</td>\n",
       "      <td>1</td>\n",
       "      <td>new results</td>\n",
       "      <td>Biophysics</td>\n",
       "      <td>https://www.biorxiv.org/content/early/2020/12/...</td>\n",
       "      <td>NA</td>\n",
       "      <td>2</td>\n",
       "    </tr>\n",
       "    <tr>\n",
       "      <th>148032</th>\n",
       "      <td>10.1101/2020.12.31.424935</td>\n",
       "      <td>Association of IRS1 (Gly972Arg) and IRS2 (Gly1...</td>\n",
       "      <td>Bhatt, S. P.; Guleria, R.</td>\n",
       "      <td>Surya  P  Bhatt</td>\n",
       "      <td>AIIMS</td>\n",
       "      <td>2020-12-31</td>\n",
       "      <td>1</td>\n",
       "      <td>new results</td>\n",
       "      <td>Biochemistry</td>\n",
       "      <td>https://www.biorxiv.org/content/early/2020/12/...</td>\n",
       "      <td>NA</td>\n",
       "      <td>2</td>\n",
       "    </tr>\n",
       "    <tr>\n",
       "      <th>148036</th>\n",
       "      <td>10.1101/2020.12.31.424938</td>\n",
       "      <td>Complete mitochondrial genome sequence of Bos ...</td>\n",
       "      <td>Deb, G.; Khatun, R.; Hossain, S.; Rahman, S.; ...</td>\n",
       "      <td>AMAM  Zonaed  Siddiki</td>\n",
       "      <td>CHITTAGONG VETERINARY AND ANIMAL SCIENCE UNIVE...</td>\n",
       "      <td>2020-12-31</td>\n",
       "      <td>1</td>\n",
       "      <td>new results</td>\n",
       "      <td>Bioinformatics</td>\n",
       "      <td>https://www.biorxiv.org/content/early/2020/12/...</td>\n",
       "      <td>NA</td>\n",
       "      <td>12</td>\n",
       "    </tr>\n",
       "    <tr>\n",
       "      <th>148037</th>\n",
       "      <td>10.1101/2020.12.30.422650</td>\n",
       "      <td>Preventing cancer by long-term partial Myc sup...</td>\n",
       "      <td>Sodir, N. M.; Pellegrinet, L.; Kortlever, R. M...</td>\n",
       "      <td>Gerard I Evan</td>\n",
       "      <td>DEPARTMENT OF BIOCHEMISTRY, UNIVERSITY OF CAMB...</td>\n",
       "      <td>2020-12-31</td>\n",
       "      <td>1</td>\n",
       "      <td>new results</td>\n",
       "      <td>Cancer Biology</td>\n",
       "      <td>https://www.biorxiv.org/content/early/2020/12/...</td>\n",
       "      <td>NA</td>\n",
       "      <td>11</td>\n",
       "    </tr>\n",
       "    <tr>\n",
       "      <th>148040</th>\n",
       "      <td>10.1101/2020.12.30.424890</td>\n",
       "      <td>Sequencing of clinical samples reveals that ad...</td>\n",
       "      <td>Li, L.; Ma, J.; Li, J.; Yuan, J.; Su, W.; Jin,...</td>\n",
       "      <td>Liqiang  Li</td>\n",
       "      <td>BGI-SHENZHEN</td>\n",
       "      <td>2020-12-31</td>\n",
       "      <td>1</td>\n",
       "      <td>new results</td>\n",
       "      <td>Microbiology</td>\n",
       "      <td>https://www.biorxiv.org/content/early/2020/12/...</td>\n",
       "      <td>NA</td>\n",
       "      <td>32</td>\n",
       "    </tr>\n",
       "  </tbody>\n",
       "</table>\n",
       "<p>45260 rows × 12 columns</p>\n",
       "</div>\n",
       "      <button class=\"colab-df-convert\" onclick=\"convertToInteractive('df-2a613d94-1645-4bad-a078-b4b0f1d1a4dd')\"\n",
       "              title=\"Convert this dataframe to an interactive table.\"\n",
       "              style=\"display:none;\">\n",
       "        \n",
       "  <svg xmlns=\"http://www.w3.org/2000/svg\" height=\"24px\"viewBox=\"0 0 24 24\"\n",
       "       width=\"24px\">\n",
       "    <path d=\"M0 0h24v24H0V0z\" fill=\"none\"/>\n",
       "    <path d=\"M18.56 5.44l.94 2.06.94-2.06 2.06-.94-2.06-.94-.94-2.06-.94 2.06-2.06.94zm-11 1L8.5 8.5l.94-2.06 2.06-.94-2.06-.94L8.5 2.5l-.94 2.06-2.06.94zm10 10l.94 2.06.94-2.06 2.06-.94-2.06-.94-.94-2.06-.94 2.06-2.06.94z\"/><path d=\"M17.41 7.96l-1.37-1.37c-.4-.4-.92-.59-1.43-.59-.52 0-1.04.2-1.43.59L10.3 9.45l-7.72 7.72c-.78.78-.78 2.05 0 2.83L4 21.41c.39.39.9.59 1.41.59.51 0 1.02-.2 1.41-.59l7.78-7.78 2.81-2.81c.8-.78.8-2.07 0-2.86zM5.41 20L4 18.59l7.72-7.72 1.47 1.35L5.41 20z\"/>\n",
       "  </svg>\n",
       "      </button>\n",
       "      \n",
       "  <style>\n",
       "    .colab-df-container {\n",
       "      display:flex;\n",
       "      flex-wrap:wrap;\n",
       "      gap: 12px;\n",
       "    }\n",
       "\n",
       "    .colab-df-convert {\n",
       "      background-color: #E8F0FE;\n",
       "      border: none;\n",
       "      border-radius: 50%;\n",
       "      cursor: pointer;\n",
       "      display: none;\n",
       "      fill: #1967D2;\n",
       "      height: 32px;\n",
       "      padding: 0 0 0 0;\n",
       "      width: 32px;\n",
       "    }\n",
       "\n",
       "    .colab-df-convert:hover {\n",
       "      background-color: #E2EBFA;\n",
       "      box-shadow: 0px 1px 2px rgba(60, 64, 67, 0.3), 0px 1px 3px 1px rgba(60, 64, 67, 0.15);\n",
       "      fill: #174EA6;\n",
       "    }\n",
       "\n",
       "    [theme=dark] .colab-df-convert {\n",
       "      background-color: #3B4455;\n",
       "      fill: #D2E3FC;\n",
       "    }\n",
       "\n",
       "    [theme=dark] .colab-df-convert:hover {\n",
       "      background-color: #434B5C;\n",
       "      box-shadow: 0px 1px 3px 1px rgba(0, 0, 0, 0.15);\n",
       "      filter: drop-shadow(0px 1px 2px rgba(0, 0, 0, 0.3));\n",
       "      fill: #FFFFFF;\n",
       "    }\n",
       "  </style>\n",
       "\n",
       "      <script>\n",
       "        const buttonEl =\n",
       "          document.querySelector('#df-2a613d94-1645-4bad-a078-b4b0f1d1a4dd button.colab-df-convert');\n",
       "        buttonEl.style.display =\n",
       "          google.colab.kernel.accessAllowed ? 'block' : 'none';\n",
       "\n",
       "        async function convertToInteractive(key) {\n",
       "          const element = document.querySelector('#df-2a613d94-1645-4bad-a078-b4b0f1d1a4dd');\n",
       "          const dataTable =\n",
       "            await google.colab.kernel.invokeFunction('convertToInteractive',\n",
       "                                                     [key], {});\n",
       "          if (!dataTable) return;\n",
       "\n",
       "          const docLinkHtml = 'Like what you see? Visit the ' +\n",
       "            '<a target=\"_blank\" href=https://colab.research.google.com/notebooks/data_table.ipynb>data table notebook</a>'\n",
       "            + ' to learn more about interactive tables.';\n",
       "          element.innerHTML = '';\n",
       "          dataTable['output_type'] = 'display_data';\n",
       "          await google.colab.output.renderOutput(dataTable, element);\n",
       "          const docLink = document.createElement('div');\n",
       "          docLink.innerHTML = docLinkHtml;\n",
       "          element.appendChild(docLink);\n",
       "        }\n",
       "      </script>\n",
       "    </div>\n",
       "  </div>\n",
       "  "
      ],
      "text/plain": [
       "                              DOI  \\\n",
       "0                  10.1101/001891   \n",
       "1                  10.1101/001867   \n",
       "2                  10.1101/001875   \n",
       "3                  10.1101/001875   \n",
       "6                  10.1101/001818   \n",
       "...                           ...   \n",
       "148025  10.1101/2020.12.31.424934   \n",
       "148032  10.1101/2020.12.31.424935   \n",
       "148036  10.1101/2020.12.31.424938   \n",
       "148037  10.1101/2020.12.30.422650   \n",
       "148040  10.1101/2020.12.30.424890   \n",
       "\n",
       "                                                    Title  \\\n",
       "0       Population genomics of Saccharomyces cerevisia...   \n",
       "1       Estimating seed bank accumulation and dynamics...   \n",
       "2       How and where to look for tRNAs in Metazoan mi...   \n",
       "3       How and where to look for tRNAs in Metazoan mi...   \n",
       "6       Emergence of structural and dynamical properti...   \n",
       "...                                                   ...   \n",
       "148025  Multivalent polymers can control phase boundar...   \n",
       "148032  Association of IRS1 (Gly972Arg) and IRS2 (Gly1...   \n",
       "148036  Complete mitochondrial genome sequence of Bos ...   \n",
       "148037  Preventing cancer by long-term partial Myc sup...   \n",
       "148040  Sequencing of clinical samples reveals that ad...   \n",
       "\n",
       "                                                  Authors  \\\n",
       "0       Carlotta De Filippo;Monica Di Paola;Irene Stef...   \n",
       "1         Meaghan E. Jenkins;David Morrison;Tony D. Auld;   \n",
       "2                                         David Morrison;   \n",
       "3                                         David Morrison;   \n",
       "6       Samir Suweis;Filippo Simini;Jayanth Banavar;Am...   \n",
       "...                                                   ...   \n",
       "148025                     Zumbro, E.; Alexander-Katz, A.   \n",
       "148032                          Bhatt, S. P.; Guleria, R.   \n",
       "148036  Deb, G.; Khatun, R.; Hossain, S.; Rahman, S.; ...   \n",
       "148037  Sodir, N. M.; Pellegrinet, L.; Kortlever, R. M...   \n",
       "148040  Li, L.; Ma, J.; Li, J.; Yuan, J.; Su, W.; Jin,...   \n",
       "\n",
       "          Corresponding_Authors  \\\n",
       "0             Duccio  Cavalieri   \n",
       "1               David  Morrison   \n",
       "2               David  Morrison   \n",
       "3               David  Morrison   \n",
       "6                 Samir  Suweis   \n",
       "...                         ...   \n",
       "148025  Alfredo  Alexander-Katz   \n",
       "148032          Surya  P  Bhatt   \n",
       "148036    AMAM  Zonaed  Siddiki   \n",
       "148037            Gerard I Evan   \n",
       "148040              Liqiang  Li   \n",
       "\n",
       "                                              Institution       Date Version  \\\n",
       "0                                FONDAZIONE E. MACH (FEM) 2014-01-17       1   \n",
       "1             SWEDISH UNIVERSITY OF AGRICULTURAL SCIENCES 2014-01-17       1   \n",
       "2             SWEDISH UNIVERSITY OF AGRICULTURAL SCIENCES 2014-01-17       1   \n",
       "3             SWEDISH UNIVERSITY OF AGRICULTURAL SCIENCES 2014-01-22       2   \n",
       "6                                    UNIVERSIYT OF PADOVA 2014-01-14       1   \n",
       "...                                                   ...        ...     ...   \n",
       "148025              MASSACHUSETTS INSTITUTE OF TECHNOLOGY 2020-12-31       1   \n",
       "148032                                              AIIMS 2020-12-31       1   \n",
       "148036  CHITTAGONG VETERINARY AND ANIMAL SCIENCE UNIVE... 2020-12-31       1   \n",
       "148037  DEPARTMENT OF BIOCHEMISTRY, UNIVERSITY OF CAMB... 2020-12-31       1   \n",
       "148040                                       BGI-SHENZHEN 2020-12-31       1   \n",
       "\n",
       "               Type              Category  \\\n",
       "0       new results  Evolutionary Biology   \n",
       "1       new results               Ecology   \n",
       "2       new results     Molecular Biology   \n",
       "3       new results     Molecular Biology   \n",
       "6       new results               Ecology   \n",
       "...             ...                   ...   \n",
       "148025  new results            Biophysics   \n",
       "148032  new results          Biochemistry   \n",
       "148036  new results        Bioinformatics   \n",
       "148037  new results        Cancer Biology   \n",
       "148040  new results          Microbiology   \n",
       "\n",
       "                                                      Xml Published  \\\n",
       "0       https://www.biorxiv.org/content/early/2014/01/...        NA   \n",
       "1       https://www.biorxiv.org/content/early/2014/01/...        NA   \n",
       "2       https://www.biorxiv.org/content/early/2014/01/...        NA   \n",
       "3       https://www.biorxiv.org/content/early/2014/01/...        NA   \n",
       "6       https://www.biorxiv.org/content/early/2014/01/...        NA   \n",
       "...                                                   ...       ...   \n",
       "148025  https://www.biorxiv.org/content/early/2020/12/...        NA   \n",
       "148032  https://www.biorxiv.org/content/early/2020/12/...        NA   \n",
       "148036  https://www.biorxiv.org/content/early/2020/12/...        NA   \n",
       "148037  https://www.biorxiv.org/content/early/2020/12/...        NA   \n",
       "148040  https://www.biorxiv.org/content/early/2020/12/...        NA   \n",
       "\n",
       "        Num_of_Authors  \n",
       "0                   19  \n",
       "1                    4  \n",
       "2                    2  \n",
       "3                    2  \n",
       "6                    5  \n",
       "...                ...  \n",
       "148025               2  \n",
       "148032               2  \n",
       "148036              12  \n",
       "148037              11  \n",
       "148040              32  \n",
       "\n",
       "[45260 rows x 12 columns]"
      ]
     },
     "metadata": {},
     "output_type": "display_data"
    },
    {
     "name": "stdout",
     "output_type": "stream",
     "text": [
      "Warning: total number of rows (45260) exceeds max_rows (20000). Limiting to first (20000) rows.\n"
     ]
    }
   ],
   "source": [
    "display(journal_df[journal_df.Published =='NA'])"
   ]
  },
  {
   "cell_type": "markdown",
   "id": "cprjkBEg3p8Q",
   "metadata": {
    "id": "cprjkBEg3p8Q"
   },
   "source": [
    "### Publication data for Prepublication data for the given time period"
   ]
  },
  {
   "cell_type": "code",
   "execution_count": null,
   "id": "ubb3vA1A_LYY",
   "metadata": {
    "id": "ubb3vA1A_LYY"
   },
   "outputs": [],
   "source": [
    "#from tqdm import tqdm_notebook, tnrange\n",
    "from tqdm.notebook import tqdm_notebook\n",
    "import time\n",
    "import math\n",
    "\n",
    "#variables\n",
    "#https://api.biorxiv.org/pubs/biorvix/10.1101/759530\n",
    "base_url: str = 'https://api.biorxiv.org'\n",
    "query_type: str = 'pubs'\n",
    "server: str ='biorxiv'\n",
    "url: str = f'{base_url}/{query_type}/{server}'\n",
    "path: str = f'pub_journal-{query_type}-{server}-{datetime.now()}'\n",
    "step = 100\n",
    "#doi = ['10.1101/856302']\n",
    "doi = journal_df[journal_df.Published != 'NA'].Published\n",
    "\n",
    "#create directory\n",
    "pathlib.Path(path).mkdir(parents=True, exist_ok=True)\n",
    "total = len(doi)\n",
    "#def process_doi_data(path:str, url:str, doi:pd.Series, meta: List, col_names: List, item:int, loop_list, disable:bool = False):\n",
    "                     \n",
    "args = [(path, url, doi, \n",
    "         [\"preprint_doi\", \"published_doi\", \"preprint_title\", \"preprint_authors\", \"preprint_author_corresponding\", \"preprint_author_corresponding_institution\", \"preprint_category\", \"published_journal\", \"preprint_date\", \"published_date\"],\n",
    "         [\"DOI\", \"pub_DOI\", \"Title\", \"Authors\", \"Corresponding_Authors\", \"Institution\", \"Category\", \"Journal\", \"Preprint_Date\", \"Published_Date\"],\n",
    "         item, True) for item in range(0, total, step)]\n",
    "print(f'total doi: {total} iter: {total/step}')\n",
    "#tq.thread_map(lambda p: process_doi_data(*p), args, desc='process_doi_data', max_workers=5, total=len(args))\n",
    "result = tq.thread_map(lambda p: process_doi_data(*p), args, desc='process_doi_data', total=len(args))\n"
   ]
  },
  {
   "cell_type": "code",
   "execution_count": null,
   "id": "y_FpBhO6UGfk",
   "metadata": {
    "id": "y_FpBhO6UGfk"
   },
   "outputs": [],
   "source": [
    "filtered_df = pd.read_parquet(pathlib.Path(path))\n",
    "print([item for item in filtered_df.Published_Date if len(item.strip()) != 10])\n",
    "filtered_df = create_published_df(filtered_df).reindex()\n",
    "filtered_df.rename(columns={'pub_DOI':'Published', 'Preprint_Date':'Date'}, inplace=True)\n"
   ]
  },
  {
   "cell_type": "markdown",
   "id": "6XmsPB97TLdq",
   "metadata": {
    "id": "6XmsPB97TLdq"
   },
   "source": [
    "Finding and cleaning missing data"
   ]
  },
  {
   "cell_type": "code",
   "execution_count": null,
   "id": "AZC1_IG3UqWN",
   "metadata": {
    "id": "AZC1_IG3UqWN"
   },
   "outputs": [],
   "source": [
    "pd.options.mode.use_inf_as_na = True # this option check for empty strings as well\n",
    "fix_df = pd.DataFrame(columns=filtered_df.columns)\n",
    "for col in filtered_df:\n",
    "    fix_df = pd.concat([fix_df, filtered_df[filtered_df[col].isna()]])\n",
    "    fix_df = pd.concat([fix_df, filtered_df[filtered_df[col] == '']])\n",
    "    \n",
    "    \n",
    "display(\"Rows with incomplete data:\", fix_df)"
   ]
  },
  {
   "cell_type": "code",
   "execution_count": null,
   "id": "1sty3ERPRrNJ",
   "metadata": {
    "id": "1sty3ERPRrNJ"
   },
   "outputs": [],
   "source": [
    "print(f'\\nPrepublished Artices w/ Publication Info that have missing info: {filtered_df.isnull().sum()}\\n')\n",
    "#print('Published data:\\n',[(name, journal_df[name].isnull().sum()) for name in journal_df.columns if journal_df[name].isnull().values.any()])\n",
    "#print('Prepublish data:\\n',[(name, filtered_df[name].isnull().sum()) for name in filtered_df.columns if filtered_df[name].isnull().values.any()])\n",
    "fix_df = filtered_df[filtered_df['Published_Date'].isna()]\n",
    "display(\"Rows with NaN:\", fix_df)"
   ]
  },
  {
   "cell_type": "code",
   "execution_count": null,
   "id": "BunF5o7mlrlj",
   "metadata": {
    "id": "BunF5o7mlrlj"
   },
   "outputs": [],
   "source": [
    "filtered_df.info()\n",
    "clean_df = filtered_df.dropna()\n",
    "merged_df = pd.merge(journal_df, clean_df, how='right', on=['DOI','Published','Title', 'Authors','Corresponding_Authors','Institution','Category','Date','Num_of_Authors'])"
   ]
  },
  {
   "cell_type": "code",
   "execution_count": null,
   "id": "1VIdng1xqjyy",
   "metadata": {
    "id": "1VIdng1xqjyy"
   },
   "outputs": [],
   "source": [
    "pd.options.mode.use_inf_as_na = True\n",
    "print(f'Prepublished Artices w/ Publication Info: {merged_df.isnull().sum()}')\n",
    "display(merged_df)"
   ]
  },
  {
   "cell_type": "markdown",
   "id": "Zde3NBti0r72",
   "metadata": {
    "id": "Zde3NBti0r72"
   },
   "source": [
    "#### General Descriptive Anaylsis"
   ]
  },
  {
   "cell_type": "code",
   "execution_count": null,
   "id": "68b9edbb",
   "metadata": {
    "id": "68b9edbb"
   },
   "outputs": [],
   "source": [
    "#summary of table\n",
    "journal_df.describe(include='all')\n"
   ]
  },
  {
   "cell_type": "code",
   "execution_count": null,
   "id": "OpkcxRKX2kLR",
   "metadata": {
    "id": "OpkcxRKX2kLR"
   },
   "outputs": [],
   "source": [
    "#freq count of Num_of_Authors\n",
    "freq_count(journal_df,'Num_of_Authors')"
   ]
  },
  {
   "cell_type": "code",
   "execution_count": null,
   "id": "ExJm__HUoU41",
   "metadata": {
    "id": "ExJm__HUoU41"
   },
   "outputs": [],
   "source": [
    "#freq count of Corresponding_Authors\n",
    "freq_count(journal_df, 'Corresponding_Authors')"
   ]
  },
  {
   "cell_type": "code",
   "execution_count": null,
   "id": "FYItzFQromtZ",
   "metadata": {
    "id": "FYItzFQromtZ"
   },
   "outputs": [],
   "source": [
    "#freq count of Instituion\n",
    "freq_count(journal_df, 'Institution')"
   ]
  },
  {
   "cell_type": "code",
   "execution_count": null,
   "id": "iGUGQsvlox-d",
   "metadata": {
    "id": "iGUGQsvlox-d"
   },
   "outputs": [],
   "source": [
    "#freq count of Date\n",
    "freq_count(journal_df, 'Date')"
   ]
  },
  {
   "cell_type": "code",
   "execution_count": null,
   "id": "aK2EySJTo-iP",
   "metadata": {
    "id": "aK2EySJTo-iP"
   },
   "outputs": [],
   "source": [
    "#freq count of number of version\n",
    "freq_count(journal_df, 'Version')"
   ]
  },
  {
   "cell_type": "code",
   "execution_count": null,
   "id": "QtuIfogBpJi6",
   "metadata": {
    "id": "QtuIfogBpJi6"
   },
   "outputs": [],
   "source": [
    "#freq count of Type\n",
    "freq_count(journal_df, 'Type')"
   ]
  },
  {
   "cell_type": "code",
   "execution_count": null,
   "id": "ccWCKmfmpbJI",
   "metadata": {
    "id": "ccWCKmfmpbJI"
   },
   "outputs": [],
   "source": [
    "#freq count Category\n",
    "freq_count(journal_df, 'Category')"
   ]
  },
  {
   "cell_type": "markdown",
   "id": "kUz1VYpi_dQS",
   "metadata": {
    "id": "kUz1VYpi_dQS"
   },
   "source": [
    "#### Check"
   ]
  },
  {
   "cell_type": "code",
   "execution_count": null,
   "id": "ecaaea6d",
   "metadata": {
    "id": "ecaaea6d"
   },
   "outputs": [],
   "source": [
    "assert get_total(url) == journal_df.shape[0]\n",
    "\"Total number of papers submitted and the length of the dataframe match.\""
   ]
  },
  {
   "cell_type": "markdown",
   "id": "537b3cc3",
   "metadata": {
    "id": "537b3cc3"
   },
   "source": [
    "The above code runs through all papers that are submitted within selected time frame. Error discussed during the previous meeting has been fixed. "
   ]
  },
  {
   "cell_type": "markdown",
   "id": "70483477",
   "metadata": {
    "id": "70483477"
   },
   "source": [
    "----"
   ]
  },
  {
   "cell_type": "markdown",
   "id": "6dPz3eLWwpri",
   "metadata": {
    "id": "6dPz3eLWwpri"
   },
   "source": [
    "## Case 2: Published Articles query for a given timefame"
   ]
  },
  {
   "cell_type": "code",
   "execution_count": null,
   "id": "2lRrqLvbYI5g",
   "metadata": {
    "id": "2lRrqLvbYI5g"
   },
   "outputs": [],
   "source": [
    "# \"global\" variables\n",
    "#https://api.biorxiv.org/pubs/biorvix/2018-08-21/2018-08-28\n",
    "base_url: str = 'https://api.biorxiv.org'\n",
    "query_type: str = 'pubs'\n",
    "server: str = 'biorxiv'\n",
    "start_interval: str = '2011-01-01'\n",
    "end_interval: str = '2020-12-31'\n"
   ]
  },
  {
   "cell_type": "markdown",
   "id": "A8PpsTQs2YT-",
   "metadata": {
    "id": "A8PpsTQs2YT-"
   },
   "source": [
    "### BioRvix Server"
   ]
  },
  {
   "cell_type": "code",
   "execution_count": null,
   "id": "9ZgDU19JYStP",
   "metadata": {
    "id": "9ZgDU19JYStP"
   },
   "outputs": [],
   "source": [
    "# \"local\" variables\n",
    "url: str = f'{base_url}/{query_type}/{server}/{start_interval}/{end_interval}'\n",
    "path: str = f'pub-{query_type}-{server}-{start_interval}!{end_interval}-{datetime.now()}'\n",
    "step = 100\n",
    "pubs_df = None\n",
    "\n",
    "#finding the number of records for a given time period\n",
    "\n",
    "pathlib.Path(path).mkdir(parents=True, exist_ok=True)\n",
    "print(url)\n",
    "\n",
    "multithread_processor(path, url, \n",
    "                      [\"preprint_doi\", \"published_doi\", \"preprint_title\", \"preprint_authors\", \"preprint_author_corresponding\", \"preprint_author_corresponding_institution\", \"preprint_category\", \"published_journal\", \"preprint_date\", \"published_date\"],\n",
    "                      [\"DOI\", \"pub_DOI\", \"Title\", \"Authors\", \"Corresponding_Authors\", \"Institution\", \"Category\", \"Journal\", \"Preprint_Date\", \"Published_Date\"],\n",
    "                      step, range(0, get_total(url), 100), True)\n"
   ]
  },
  {
   "cell_type": "code",
   "execution_count": null,
   "id": "MVP_xYqnAiIU",
   "metadata": {
    "id": "MVP_xYqnAiIU"
   },
   "outputs": [],
   "source": [
    "pubs_df = pd.read_parquet(pathlib.Path(path)).sort_index(kind='mergesort', key=lambda x: x.astype(int))"
   ]
  },
  {
   "cell_type": "code",
   "execution_count": null,
   "id": "CbPhyHOlAo5p",
   "metadata": {
    "id": "CbPhyHOlAo5p"
   },
   "outputs": [],
   "source": [
    "pubs_df.head(1)\n",
    "#print([(index, value, datetime.strptime(value.split(':')[0], '%Y-%m-%d').date()) for index, value in enumerate(pubs_df.Published_Date) if len(value.strip()) != 10])\n",
    "print([(index, value) for index, value in enumerate(pubs_df.Published_Date) if len(value.strip()) != 10])\n",
    "\n"
   ]
  },
  {
   "cell_type": "code",
   "execution_count": null,
   "id": "A18hdPgAT5mk",
   "metadata": {
    "id": "A18hdPgAT5mk"
   },
   "outputs": [],
   "source": [
    "\n",
    "pubs_df = create_published_df(pubs_df)\n",
    "\n",
    "#display(pubs_df)\n",
    "#pubs_df.shape\n"
   ]
  },
  {
   "cell_type": "code",
   "execution_count": null,
   "id": "ZTWyOr9wP_x_",
   "metadata": {
    "id": "ZTWyOr9wP_x_"
   },
   "outputs": [],
   "source": [
    "pubs_df.info()\n",
    "print(pubs_df.Published_Date.isna().values.any(), pubs_df.Preprint_Date.isna().values.any())\n",
    "print(pubs_df.Published_Date.subtract(pubs_df.Preprint_Date))\n",
    "#for index in range(pubs_df.shape[0]):\n",
    "#    try:\n",
    "#        pubs_df.loc(index, 'Published_Date') - pubs_df.loc(index, 'Preprint_Date')\n",
    "#    except Exception as e:\n",
    "        #print(e)\n",
    "        #print (f'index: {index} Published_Date: {')"
   ]
  },
  {
   "cell_type": "markdown",
   "id": "v2_8a0y02hSI",
   "metadata": {
    "id": "v2_8a0y02hSI"
   },
   "source": [
    "#### General Descriptive Analysis"
   ]
  },
  {
   "cell_type": "code",
   "execution_count": null,
   "id": "0r7-MU3EAITY",
   "metadata": {
    "id": "0r7-MU3EAITY"
   },
   "outputs": [],
   "source": [
    "pubs_df.info()"
   ]
  },
  {
   "cell_type": "code",
   "execution_count": null,
   "id": "ecI9DRx0wlGW",
   "metadata": {
    "id": "ecI9DRx0wlGW"
   },
   "outputs": [],
   "source": [
    "#summary of table\n",
    "pubs_df.describe(include='all')\n"
   ]
  },
  {
   "cell_type": "code",
   "execution_count": null,
   "id": "HorMz3hk1iWt",
   "metadata": {
    "id": "HorMz3hk1iWt"
   },
   "outputs": [],
   "source": [
    "#freq count of Num_of_Authors\n",
    "freq_count(pubs_df,'Num_of_Authors')"
   ]
  },
  {
   "cell_type": "code",
   "execution_count": null,
   "id": "Ir0ALSY-2LTK",
   "metadata": {
    "id": "Ir0ALSY-2LTK"
   },
   "outputs": [],
   "source": [
    "#freq count \"Corresponding_Authors\"\n",
    "freq_count(pubs_df, 'Corresponding_Authors')"
   ]
  },
  {
   "cell_type": "code",
   "execution_count": null,
   "id": "-FNSHPcQ6GwP",
   "metadata": {
    "id": "-FNSHPcQ6GwP"
   },
   "outputs": [],
   "source": [
    "#freq_count Institution\n",
    "freq_count(pubs_df, 'Institution')"
   ]
  },
  {
   "cell_type": "code",
   "execution_count": null,
   "id": "KI8pfBWD6XNJ",
   "metadata": {
    "id": "KI8pfBWD6XNJ"
   },
   "outputs": [],
   "source": [
    "#freq_count Category\n",
    "freq_count(pubs_df, 'Category')"
   ]
  },
  {
   "cell_type": "code",
   "execution_count": null,
   "id": "bwPUZ3yZ6nKT",
   "metadata": {
    "id": "bwPUZ3yZ6nKT"
   },
   "outputs": [],
   "source": [
    "#freq count Jounral\n",
    "freq_count(pubs_df, 'Journal')"
   ]
  },
  {
   "cell_type": "code",
   "execution_count": null,
   "id": "tIQbFXeb69Hg",
   "metadata": {
    "id": "tIQbFXeb69Hg"
   },
   "outputs": [],
   "source": [
    "#freq count Preprint_Date\n",
    "freq_count(pubs_df, 'Preprint_Date')"
   ]
  },
  {
   "cell_type": "code",
   "execution_count": null,
   "id": "dos-OlYF7NnT",
   "metadata": {
    "id": "dos-OlYF7NnT"
   },
   "outputs": [],
   "source": [
    "#freq count Published_date\n",
    "freq_count(pubs_df, 'Published_Date')"
   ]
  },
  {
   "cell_type": "markdown",
   "id": "9cAnosLu_NSA",
   "metadata": {
    "id": "9cAnosLu_NSA"
   },
   "source": [
    "#### Check"
   ]
  },
  {
   "cell_type": "code",
   "execution_count": null,
   "id": "yNwqBAdIwkj-",
   "metadata": {
    "id": "yNwqBAdIwkj-"
   },
   "outputs": [],
   "source": [
    "'''\n",
    "                      columns=[\"pre_DOI\", \"pub_DOI\",\n",
    "                               \"Title\", \"Authors\", \"Corresponding_Authors\",\n",
    "                               \"Institution\",\n",
    "                               \"Category\", \"Journal\", \"Preprint_Date\", \"Published_Date\"])\n",
    "'''\n",
    "#assert get_total(f'{base_url}{query_type}{server}{start_interval}{end_interval}') == pubs_df.shape[0]\n",
    "\"Total number of papers published and the length of the dataframe does match.\""
   ]
  },
  {
   "cell_type": "markdown",
   "id": "WyvJwYLNscDP",
   "metadata": {
    "id": "WyvJwYLNscDP"
   },
   "source": [
    "----"
   ]
  },
  {
   "cell_type": "markdown",
   "id": "LZHeXoT-Km87",
   "metadata": {
    "id": "LZHeXoT-Km87"
   },
   "source": [
    "### Case \\#2: Detailed analysis of published articles for a given timeframe"
   ]
  },
  {
   "cell_type": "code",
   "execution_count": null,
   "id": "AQMsAnVcYtwk",
   "metadata": {
    "id": "AQMsAnVcYtwk"
   },
   "outputs": [],
   "source": [
    "from multipledispatch import dispatch\n",
    "@dispatch(pd.DataFrame, int, str)\n",
    "def get_values(df: pd.DataFrame, row: int, col: str):\n",
    "    return get_values(df, [row], [col])\n",
    "\n",
    "@dispatch(pd.DataFrame, int, list)\n",
    "def get_values(df: pd.DataFrame, row: int, cols: List[str]):\n",
    "    return get_values(df, [row], cols)\n",
    "\n",
    "@dispatch(pd.DataFrame, list, str)\n",
    "def get_values(df: pd.DataFrame, rows: List[int], col: str):\n",
    "    return get_values(df, rows, [col])\n",
    "\n",
    "@dispatch(pd.DataFrame, list, list)\n",
    "def get_values(df: pd.DataFrame, rows: List[int], cols: List[str]) -> List[List[str]]:\n",
    "    return [[df.at(row, col) for col in cols] for row in rows]\n",
    "\n",
    "@dispatch(pd.DataFrame, str)\n",
    "def get_values(df: pd.DataFrame, col: str):\n",
    "    return df[col]\n",
    "\n",
    "@dispatch(pd.DataFrame, list)\n",
    "def get_values(df: pd.DataFrame, cols: List[str]):\n",
    "    return df[cols]"
   ]
  },
  {
   "cell_type": "markdown",
   "id": "pFH0AzJ1LJms",
   "metadata": {
    "id": "pFH0AzJ1LJms"
   },
   "source": [
    "                                                                                                                                                                          ### BioRvix Service"
   ]
  },
  {
   "cell_type": "code",
   "execution_count": null,
   "id": "w_Tv0XvnKybY",
   "metadata": {
    "colab": {
     "background_save": true
    },
    "id": "w_Tv0XvnKybY"
   },
   "outputs": [],
   "source": [
    "#from tqdm import tqdm_notebook, tnrange\n",
    "from tqdm.notebook import tqdm_notebook\n",
    "import time\n",
    "import math\n",
    "\n",
    "#variables\n",
    "#https://api.biorxiv.org/pubs/biorvix/2018-08-21/2018-08-28\n",
    "#https://api.biorxiv.org/details/biorxiv/10.1101/759530\n",
    "#https://api.biorxiv.org/details/biorvix/10.1101/759530\n",
    "base_url: str = 'https://api.biorxiv.org'\n",
    "query_type: str = 'details'\n",
    "server: str ='biorxiv'\n",
    "url: str = f'{base_url}/{query_type}/{server}'\n",
    "path: str = f'prepub-{query_type}-{server}-{datetime.now()}'\n",
    "step = 100\n",
    "#doi = ['10.1101/856302']\n",
    "doi = pubs_df.DOI\n",
    "prepub_df = None\n",
    "\n",
    "'''\n",
    "for item in tqdm_notebook(range(0, total, step), desc='get_prepublish_data', \n",
    "                 total=math.ceil(total/step)):\n",
    "    #time.sleep(0.005)\n",
    "    results = get_data(None, \n",
    "                       url, \n",
    "                       doi[item:item+step])\n",
    "    tmp = list(results)\n",
    "    prepub_df = query_to_df([r for r in tmp], \n",
    "                            [\"doi\", \"title\", \"authors\", \"author_corresponding\", \"author_corresponding_institution\", \"date\", \"version\", \"type\", \"category\", \"published\"],\n",
    "                            range(item, item + (len(tmp) * step), step),\n",
    "#                            range(item, (item + ((len(tmp[counter]) - 1) * step)) * 10, step),\n",
    "                            [\"DOI\", \"Title\", \"Authors\", \"Corresponding_Authors\", \"Institution\", \"Date\", \"Version\", \"Type\", \"Category\", \"pub_DOI\"], False)\n",
    "    #prepub_df = create_prepublish_df(prepub_df)\n",
    "    prepub_df.to_parquet(pathlib.Path(f'{path}/{datetime.utcnow().timestamp()}.parquet'))\n",
    "'''\n",
    "\n",
    "#create directory\n",
    "pathlib.Path(path).mkdir(parents=True, exist_ok=True)\n",
    "total = len(doi)\n",
    "args = [(path, url, doi, item, step, True) for item in range(0, total, step)]\n",
    "#print(f'args: {len(args)}\\n{args}')\n",
    "print(url, f'total doi: {total} iter: {total/step}')\n",
    "#tq.thread_map(lambda p: process_doi_data(*p), args, desc='process_doi_data', max_workers=5, total=len(args))\n",
    "tq.thread_map(lambda p: process_doi_data(*p), args, desc='process_doi_data', total=len(args))\n"
   ]
  },
  {
   "cell_type": "code",
   "execution_count": null,
   "id": "aV_7o_yC4V5U",
   "metadata": {
    "id": "aV_7o_yC4V5U"
   },
   "outputs": [],
   "source": [
    "prepub_df = create_prepublish_df(pd.read_parquet(pathlib.Path(path)))\n",
    "\n",
    "prepub_df"
   ]
  },
  {
   "cell_type": "code",
   "execution_count": null,
   "id": "eucJeZDX55IZ",
   "metadata": {
    "id": "eucJeZDX55IZ"
   },
   "outputs": [],
   "source": [
    "print('Published data:\\n',[(name, pubs_df[name].isnull().sum()) for name in pubs_df.columns if pubs_df[name].isnull().values.any()])\n",
    "print('Prepublish data:\\n',[(name, prepub_df[name].isnull().sum()) for name in prepub_df.columns if prepub_df[name].isnull().values.any()])"
   ]
  },
  {
   "cell_type": "code",
   "execution_count": null,
   "id": "pnrO6Q_P3JDe",
   "metadata": {
    "id": "pnrO6Q_P3JDe"
   },
   "outputs": [],
   "source": [
    "combined_df = pd.merge(pubs_df,prepub_df, how=\"outer\", on=['DOI','Title', 'Authors', 'Corresponding_Authors', 'Institution', 'Category', 'Num_of_Authors', 'pub_DOI'])\n",
    "#combined_df = pd.merge(pubs_df,prepub_df, how=\"right\", on=['DOI','Title', 'Authors', 'Corresponding_Authors', 'Institution', 'Category', 'Num_of_Authors'])\n",
    "combined_df['Time_month'] = (combined_df['Published_Date'] - combined_df['Preprint_Date']) / np.timedelta64(1, 'M')\n",
    "combined_df['Keep'] = combined_df.Published_Date > combined_df.Preprint_Date\n",
    "#ref = combined_df.set_index(['pub_DOI'], inplace=False)\n",
    "combined_df.head(1)\n",
    "#display(combined_df.groupby('DOI').count())"
   ]
  },
  {
   "cell_type": "code",
   "execution_count": null,
   "id": "VTLoIyweE6F_",
   "metadata": {
    "id": "VTLoIyweE6F_"
   },
   "outputs": [],
   "source": [
    "print([(index, value) for index, value in enumerate(combined_df.groupby(['DOI'])['Time_month']) ])\n"
   ]
  },
  {
   "cell_type": "code",
   "execution_count": null,
   "id": "b7xApG-iAst7",
   "metadata": {
    "id": "b7xApG-iAst7"
   },
   "outputs": [],
   "source": [
    "# checking for NA\n",
    "print([(name, combined_df[name].isnull().sum()) for name in combined_df.columns if combined_df[name].isnull().values.any()])\n",
    "print([(name, combined_df.groupby([name], dropna=False).size) for name in combined_df.columns if (combined_df.groupby([name], dropna=False)[name].count() > 0).any()])\n",
    "print([(name, combined_df.groupby([name], dropna=True).size) for name in combined_df.columns if (combined_df.groupby([name], dropna=False)[name].count() > 0).any()])"
   ]
  },
  {
   "cell_type": "code",
   "execution_count": null,
   "id": "C_lYaBefgFPW",
   "metadata": {
    "id": "C_lYaBefgFPW"
   },
   "outputs": [],
   "source": [
    "#%%capture cap\n",
    "display(prepub_df.shape, pubs_df.shape, combined_df.shape, combined_df.groupby(['pub_DOI'], as_index=True).count().shape)\n",
    "#test = combined_df.groupby(['DOI', 'pub_DOI', 'Category', 'Institution', 'Corresponding_Authors', 'Journal', 'Preprint_Date', 'Published_Date', 'Authors', 'Num_of_Authors', 'Title', 'Date', 'Version'])\n",
    "test = combined_df.groupby(['DOI'], as_index = True)\n",
    "#display(test.iloc[test.Title.nunique().ne(1),:])\n",
    "#display(test.Title.nunique().ne(1).index)\n",
    "#display(test.Title.nunique().ne(1))\n",
    "#key = test.Title.nunique().ne(1)\n",
    "#display(ref.index.isin(key))\n",
    "#display(ref[ref.index.isin(key)])\n",
    "#display(test.Title.nunique().ne(1).shape)\n",
    "#test.Title.indices.\n",
    "#display(test.Title.indices)\n",
    "#df.at only get signal value so need to use list comprehension to get multiple columns in a particular row\n",
    "#print(test.Title.indices['10.1128/IAI.00353-19'])\n",
    "#display(combined_df .iloc[[1826, 1827]])\n",
    "#display(combined_df)\n",
    "combined_df.groupby(['pub_DOI'], as_index=False).Title.unique()"
   ]
  },
  {
   "cell_type": "code",
   "execution_count": null,
   "id": "rQAZIomEWwYl",
   "metadata": {
    "id": "rQAZIomEWwYl"
   },
   "outputs": [],
   "source": []
  },
  {
   "cell_type": "code",
   "execution_count": null,
   "id": "iPFzy5JTitmc",
   "metadata": {
    "id": "iPFzy5JTitmc"
   },
   "outputs": [],
   "source": [
    "combined_df.groupby(['Category', 'Keep'], as_index=True).Time_month.describe()"
   ]
  },
  {
   "cell_type": "markdown",
   "id": "DyuqmfoqFL9v",
   "metadata": {
    "id": "DyuqmfoqFL9v"
   },
   "source": [
    "**NB:** There are some issues with the above table since there are 29 publications that have more than one enteries."
   ]
  },
  {
   "cell_type": "code",
   "execution_count": null,
   "id": "mI2n4-JGDcEh",
   "metadata": {
    "id": "mI2n4-JGDcEh"
   },
   "outputs": [],
   "source": [
    "df = combined_df.loc[combined_df.reset_index().groupby(['pub_DOI'])['Time_month'].idxmax()]\n"
   ]
  },
  {
   "cell_type": "code",
   "execution_count": null,
   "id": "f0rK3WF8bVfi",
   "metadata": {
    "id": "f0rK3WF8bVfi"
   },
   "outputs": [],
   "source": [
    "display(df.groupby(['Category']).Time_month.describe())"
   ]
  },
  {
   "cell_type": "code",
   "execution_count": null,
   "id": "RznQ2U0LrwCn",
   "metadata": {
    "id": "RznQ2U0LrwCn"
   },
   "outputs": [],
   "source": [
    "combined_df.groupby(['Institution'], as_index=True).pub_DOI.describe().to_csv(\"general.csv\")"
   ]
  },
  {
   "cell_type": "code",
   "execution_count": null,
   "id": "VnD7vbrqrYae",
   "metadata": {
    "id": "VnD7vbrqrYae"
   },
   "outputs": [],
   "source": [
    "combined_df.groupby(['Institution', 'Category'], as_index=True).Time_month.describe()"
   ]
  },
  {
   "cell_type": "code",
   "execution_count": null,
   "id": "exkYqa1ZVb1w",
   "metadata": {
    "id": "exkYqa1ZVb1w"
   },
   "outputs": [],
   "source": [
    "reduce_df = combined_df[combined_df.Keep == True]\n",
    "reduce_df.groupby(['Category', 'Keep'], as_index=True).Time_month.describe()"
   ]
  },
  {
   "cell_type": "code",
   "execution_count": null,
   "id": "Whgfy1V8rJVV",
   "metadata": {
    "id": "Whgfy1V8rJVV"
   },
   "outputs": [],
   "source": [
    "print(pubs_df.shape)\n",
    "print(prepub_df.shape)\n",
    "print(test.count().shape)\n",
    "print((test.Title.nunique() - 1 ).shape)"
   ]
  },
  {
   "cell_type": "code",
   "execution_count": null,
   "id": "4NjU5tNt_XgO",
   "metadata": {
    "id": "4NjU5tNt_XgO"
   },
   "outputs": [],
   "source": []
  },
  {
   "cell_type": "code",
   "execution_count": null,
   "id": "hB2MtvlYa0qF",
   "metadata": {
    "id": "hB2MtvlYa0qF"
   },
   "outputs": [],
   "source": [
    "test.filter(lambda x: x['Title'].nunique() > 1).to_csv('title-change.csv')\n",
    "prepub_df.to_csv('pre&pub-data.csv')\n",
    "pubs_df.to_csv('pub_data.csv')"
   ]
  },
  {
   "cell_type": "markdown",
   "id": "2d11227e",
   "metadata": {
    "id": "2d11227e"
   },
   "source": [
    "# Junk Code\n",
    "Please disregard the codes below."
   ]
  },
  {
   "cell_type": "code",
   "execution_count": null,
   "id": "6j7ohr_84AdV",
   "metadata": {
    "id": "6j7ohr_84AdV"
   },
   "outputs": [],
   "source": [
    "'''\n",
    "for item in tqdm_notebook(range(0, total, step), desc='get_prepublish_data', \n",
    "                 total=math.ceil(total/step)):\n",
    "    #time.sleep(0.005)\n",
    "    results = get_data(None, \n",
    "                       url, \n",
    "                       doi[item:item+step])\n",
    "    tmp = list(results)\n",
    "    prepub_df = query_to_df([r for r in tmp], \n",
    "                            [\"doi\", \"title\", \"authors\", \"author_corresponding\", \"author_corresponding_institution\", \"date\", \"version\", \"type\", \"category\", \"published\"],\n",
    "                            range(item, item + (len(tmp) * step), step),\n",
    "#                            range(item, (item + ((len(tmp[counter]) - 1) * step)) * 10, step),\n",
    "                            [\"DOI\", \"Title\", \"Authors\", \"Corresponding_Authors\", \"Institution\", \"Date\", \"Version\", \"Type\", \"Category\", \"pub_DOI\"], False)\n",
    "    #prepub_df = create_prepublish_df(prepub_df)\n",
    "    prepub_df.to_parquet(pathlib.Path(f'{path}/{datetime.utcnow().timestamp()}.parquet'))\n",
    "'''\n",
    "\n"
   ]
  },
  {
   "cell_type": "code",
   "execution_count": null,
   "id": "Raiv_IEv2gJk",
   "metadata": {
    "id": "Raiv_IEv2gJk"
   },
   "outputs": [],
   "source": [
    "# \"local\" variables\n",
    "url: str = f'{base_url}/{query_type}/{server}/{start_interval}/{end_interval}'\n",
    "path: str = f'pub-{query_type}-{server}-{start_interval}!{end_interval}-{datetime.datetime.now()}'\n",
    "step = 100\n",
    "pubs_df = None\n",
    "\n",
    "#finding the number of records for a given time period\n",
    "\n",
    "pathlib.Path(path).mkdir(parents=True, exist_ok=True)\n",
    "print(url)\n",
    "results = get_data(None, \n",
    "         url, \n",
    "         range(0, get_total(url), 100))\n",
    "\n",
    "tmp = list(results)\n",
    "for item in range (0, get_total(url), step):\n",
    "    result_list = tmp[item:(item+step)]\n",
    "    pubs_df = query_to_df(result_list, \n",
    "                          [\"preprint_doi\", \"published_doi\", \"preprint_title\", \"preprint_authors\", \"preprint_author_corresponding\", \"preprint_author_corresponding_institution\", \"preprint_category\", \"published_journal\", \"preprint_date\", \"published_date\"],\n",
    "                          range(item, len(result_list) * step, step),\n",
    "                          [\"DOI\", \"pub_DOI\", \"Title\", \"Authors\", \"Corresponding_Authors\", \"Institution\", \"Category\", \"Journal\", \"Preprint_Date\", \"Published_Date\"])\n",
    "    pubs_df.to_parquet(pathlib.Path(f'{path}/{datetime.datetime.utcnow().timestamp()}.parquet'))\n",
    "pubs_df = pd.read_parquet(pathlib.Path(path))\n",
    "pubs_df = create_published_df(pubs_df)\n",
    "\n",
    "display(pubs_df)"
   ]
  },
  {
   "cell_type": "code",
   "execution_count": null,
   "id": "Hw_gzl2w9Oga",
   "metadata": {
    "id": "Hw_gzl2w9Oga"
   },
   "outputs": [],
   "source": [
    "def get_publisher_prefix(doi: pd.Series) -> pd.Series:\n",
    "    return doi.apply(lambda x: x.split(\"/\")[0])\n",
    "\n",
    "query_type='/publisher'\n",
    "\n",
    "def get_publisher_data(url)\n",
    "get_data(None,f'{base_url}{query_type}'\n",
    "         get_publisher_prefix(pubs_df.pub_DOI).unique())"
   ]
  },
  {
   "cell_type": "markdown",
   "id": "a01c1Bgp8HK9",
   "metadata": {
    "id": "a01c1Bgp8HK9"
   },
   "source": [
    "**Journal API**<br>\n",
    "https://www.nature.com/opensearch/<br>\n",
    "https://www.biorxiv.org/content/10.1101/339747v4<br>\n",
    "https://www.biorxiv.org/content/10.1101/339747v4.full.pdf<br>\n",
    "https://api.biorxiv.org/details/biorxiv/10.1101/099697\n"
   ]
  },
  {
   "cell_type": "code",
   "execution_count": null,
   "id": "77a59f13",
   "metadata": {
    "id": "77a59f13"
   },
   "outputs": [],
   "source": [
    "journal_list = []\n",
    "\n",
    "# `license`,`abstract`, and `server` are excluded from the metrics. \n",
    "for journal in json_info[\"collection\"]:\n",
    "    journal_list.append([journal[\"doi\"], journal[\"title\"], journal[\"authors\"],\n",
    "                         journal[\"author_corresponding\"], \n",
    "                         journal[\"author_corresponding_institution\"],\n",
    "                         journal[\"date\"], journal[\"version\"], journal[\"type\"],\n",
    "                         journal[\"category\"], journal[\"jatsxml\"], journal[\"published\"]])\n",
    "    "
   ]
  },
  {
   "cell_type": "code",
   "execution_count": null,
   "id": "27bbfb07",
   "metadata": {
    "id": "27bbfb07"
   },
   "outputs": [],
   "source": [
    "journal_df = pd.DataFrame(data=journal_list,\n",
    "                         columns=[\"DOI\", \"Title\", \"Authors\", \"Corresponding Authors\",\n",
    "                                  \"Institution\",\n",
    "                                  \"Date\", \"Version\", \"Type\", \"Category\", \"Xml\", \"Published\"])\n",
    "journal_df.head()"
   ]
  }
 ],
 "metadata": {
  "colab": {
   "collapsed_sections": [
    "3E24xcwG1kXQ",
    "6dPz3eLWwpri"
   ],
   "include_colab_link": true,
   "machine_shape": "hm",
   "provenance": []
  },
  "gpuClass": "standard",
  "kernelspec": {
   "display_name": "Python 3 (ipykernel)",
   "language": "python",
   "name": "python3"
  },
  "language_info": {
   "codemirror_mode": {
    "name": "ipython",
    "version": 3
   },
   "file_extension": ".py",
   "mimetype": "text/x-python",
   "name": "python",
   "nbconvert_exporter": "python",
   "pygments_lexer": "ipython3",
   "version": "3.9.7"
  },
  "widgets": {
   "application/vnd.jupyter.widget-state+json": {
    "01b6eddd2404428bb81a4547d60444b3": {
     "model_module": "@jupyter-widgets/base",
     "model_module_version": "1.2.0",
     "model_name": "LayoutModel",
     "state": {
      "_model_module": "@jupyter-widgets/base",
      "_model_module_version": "1.2.0",
      "_model_name": "LayoutModel",
      "_view_count": null,
      "_view_module": "@jupyter-widgets/base",
      "_view_module_version": "1.2.0",
      "_view_name": "LayoutView",
      "align_content": null,
      "align_items": null,
      "align_self": null,
      "border": null,
      "bottom": null,
      "display": null,
      "flex": null,
      "flex_flow": null,
      "grid_area": null,
      "grid_auto_columns": null,
      "grid_auto_flow": null,
      "grid_auto_rows": null,
      "grid_column": null,
      "grid_gap": null,
      "grid_row": null,
      "grid_template_areas": null,
      "grid_template_columns": null,
      "grid_template_rows": null,
      "height": null,
      "justify_content": null,
      "justify_items": null,
      "left": null,
      "margin": null,
      "max_height": null,
      "max_width": null,
      "min_height": null,
      "min_width": null,
      "object_fit": null,
      "object_position": null,
      "order": null,
      "overflow": null,
      "overflow_x": null,
      "overflow_y": null,
      "padding": null,
      "right": null,
      "top": null,
      "visibility": null,
      "width": null
     }
    },
    "1bbfab880f2149e685d407db49da94a1": {
     "model_module": "@jupyter-widgets/base",
     "model_module_version": "1.2.0",
     "model_name": "LayoutModel",
     "state": {
      "_model_module": "@jupyter-widgets/base",
      "_model_module_version": "1.2.0",
      "_model_name": "LayoutModel",
      "_view_count": null,
      "_view_module": "@jupyter-widgets/base",
      "_view_module_version": "1.2.0",
      "_view_name": "LayoutView",
      "align_content": null,
      "align_items": null,
      "align_self": null,
      "border": null,
      "bottom": null,
      "display": null,
      "flex": null,
      "flex_flow": null,
      "grid_area": null,
      "grid_auto_columns": null,
      "grid_auto_flow": null,
      "grid_auto_rows": null,
      "grid_column": null,
      "grid_gap": null,
      "grid_row": null,
      "grid_template_areas": null,
      "grid_template_columns": null,
      "grid_template_rows": null,
      "height": null,
      "justify_content": null,
      "justify_items": null,
      "left": null,
      "margin": null,
      "max_height": null,
      "max_width": null,
      "min_height": null,
      "min_width": null,
      "object_fit": null,
      "object_position": null,
      "order": null,
      "overflow": null,
      "overflow_x": null,
      "overflow_y": null,
      "padding": null,
      "right": null,
      "top": null,
      "visibility": null,
      "width": null
     }
    },
    "49032de80ac44169b9a8337bed34ead2": {
     "model_module": "@jupyter-widgets/controls",
     "model_module_version": "1.5.0",
     "model_name": "ProgressStyleModel",
     "state": {
      "_model_module": "@jupyter-widgets/controls",
      "_model_module_version": "1.5.0",
      "_model_name": "ProgressStyleModel",
      "_view_count": null,
      "_view_module": "@jupyter-widgets/base",
      "_view_module_version": "1.2.0",
      "_view_name": "StyleView",
      "bar_color": null,
      "description_width": ""
     }
    },
    "4edf0b643db94dfeae6db7b8a0519cdb": {
     "model_module": "@jupyter-widgets/controls",
     "model_module_version": "1.5.0",
     "model_name": "HBoxModel",
     "state": {
      "_dom_classes": [],
      "_model_module": "@jupyter-widgets/controls",
      "_model_module_version": "1.5.0",
      "_model_name": "HBoxModel",
      "_view_count": null,
      "_view_module": "@jupyter-widgets/controls",
      "_view_module_version": "1.5.0",
      "_view_name": "HBoxView",
      "box_style": "",
      "children": [
       "IPY_MODEL_7c45fe41b4dd4db7a0a1c964f8c68e7c",
       "IPY_MODEL_af6fac0308a34252af8aa82673b98406",
       "IPY_MODEL_5993c8519cc3465eae2f87b2318414c4"
      ],
      "layout": "IPY_MODEL_86847fee2c014f76a008a321f5209a4a"
     }
    },
    "543c5ba3a78946f58b91fe5bd0e7f1d1": {
     "model_module": "@jupyter-widgets/base",
     "model_module_version": "1.2.0",
     "model_name": "LayoutModel",
     "state": {
      "_model_module": "@jupyter-widgets/base",
      "_model_module_version": "1.2.0",
      "_model_name": "LayoutModel",
      "_view_count": null,
      "_view_module": "@jupyter-widgets/base",
      "_view_module_version": "1.2.0",
      "_view_name": "LayoutView",
      "align_content": null,
      "align_items": null,
      "align_self": null,
      "border": null,
      "bottom": null,
      "display": null,
      "flex": null,
      "flex_flow": null,
      "grid_area": null,
      "grid_auto_columns": null,
      "grid_auto_flow": null,
      "grid_auto_rows": null,
      "grid_column": null,
      "grid_gap": null,
      "grid_row": null,
      "grid_template_areas": null,
      "grid_template_columns": null,
      "grid_template_rows": null,
      "height": null,
      "justify_content": null,
      "justify_items": null,
      "left": null,
      "margin": null,
      "max_height": null,
      "max_width": null,
      "min_height": null,
      "min_width": null,
      "object_fit": null,
      "object_position": null,
      "order": null,
      "overflow": null,
      "overflow_x": null,
      "overflow_y": null,
      "padding": null,
      "right": null,
      "top": null,
      "visibility": null,
      "width": null
     }
    },
    "5993c8519cc3465eae2f87b2318414c4": {
     "model_module": "@jupyter-widgets/controls",
     "model_module_version": "1.5.0",
     "model_name": "HTMLModel",
     "state": {
      "_dom_classes": [],
      "_model_module": "@jupyter-widgets/controls",
      "_model_module_version": "1.5.0",
      "_model_name": "HTMLModel",
      "_view_count": null,
      "_view_module": "@jupyter-widgets/controls",
      "_view_module_version": "1.5.0",
      "_view_name": "HTMLView",
      "description": "",
      "description_tooltip": null,
      "layout": "IPY_MODEL_1bbfab880f2149e685d407db49da94a1",
      "placeholder": "​",
      "style": "IPY_MODEL_e4a56b5756c94cc68e6b4f9ba88f66e8",
      "value": " 1481/1481 [08:28&lt;00:00,  2.07it/s]"
     }
    },
    "7c45fe41b4dd4db7a0a1c964f8c68e7c": {
     "model_module": "@jupyter-widgets/controls",
     "model_module_version": "1.5.0",
     "model_name": "HTMLModel",
     "state": {
      "_dom_classes": [],
      "_model_module": "@jupyter-widgets/controls",
      "_model_module_version": "1.5.0",
      "_model_name": "HTMLModel",
      "_view_count": null,
      "_view_module": "@jupyter-widgets/controls",
      "_view_module_version": "1.5.0",
      "_view_name": "HTMLView",
      "description": "",
      "description_tooltip": null,
      "layout": "IPY_MODEL_01b6eddd2404428bb81a4547d60444b3",
      "placeholder": "​",
      "style": "IPY_MODEL_aa058be5dc914ec28a81bff85de7168e",
      "value": "get_big_data: 100%"
     }
    },
    "86847fee2c014f76a008a321f5209a4a": {
     "model_module": "@jupyter-widgets/base",
     "model_module_version": "1.2.0",
     "model_name": "LayoutModel",
     "state": {
      "_model_module": "@jupyter-widgets/base",
      "_model_module_version": "1.2.0",
      "_model_name": "LayoutModel",
      "_view_count": null,
      "_view_module": "@jupyter-widgets/base",
      "_view_module_version": "1.2.0",
      "_view_name": "LayoutView",
      "align_content": null,
      "align_items": null,
      "align_self": null,
      "border": null,
      "bottom": null,
      "display": null,
      "flex": null,
      "flex_flow": null,
      "grid_area": null,
      "grid_auto_columns": null,
      "grid_auto_flow": null,
      "grid_auto_rows": null,
      "grid_column": null,
      "grid_gap": null,
      "grid_row": null,
      "grid_template_areas": null,
      "grid_template_columns": null,
      "grid_template_rows": null,
      "height": null,
      "justify_content": null,
      "justify_items": null,
      "left": null,
      "margin": null,
      "max_height": null,
      "max_width": null,
      "min_height": null,
      "min_width": null,
      "object_fit": null,
      "object_position": null,
      "order": null,
      "overflow": null,
      "overflow_x": null,
      "overflow_y": null,
      "padding": null,
      "right": null,
      "top": null,
      "visibility": null,
      "width": null
     }
    },
    "aa058be5dc914ec28a81bff85de7168e": {
     "model_module": "@jupyter-widgets/controls",
     "model_module_version": "1.5.0",
     "model_name": "DescriptionStyleModel",
     "state": {
      "_model_module": "@jupyter-widgets/controls",
      "_model_module_version": "1.5.0",
      "_model_name": "DescriptionStyleModel",
      "_view_count": null,
      "_view_module": "@jupyter-widgets/base",
      "_view_module_version": "1.2.0",
      "_view_name": "StyleView",
      "description_width": ""
     }
    },
    "af6fac0308a34252af8aa82673b98406": {
     "model_module": "@jupyter-widgets/controls",
     "model_module_version": "1.5.0",
     "model_name": "FloatProgressModel",
     "state": {
      "_dom_classes": [],
      "_model_module": "@jupyter-widgets/controls",
      "_model_module_version": "1.5.0",
      "_model_name": "FloatProgressModel",
      "_view_count": null,
      "_view_module": "@jupyter-widgets/controls",
      "_view_module_version": "1.5.0",
      "_view_name": "ProgressView",
      "bar_style": "success",
      "description": "",
      "description_tooltip": null,
      "layout": "IPY_MODEL_543c5ba3a78946f58b91fe5bd0e7f1d1",
      "max": 1481,
      "min": 0,
      "orientation": "horizontal",
      "style": "IPY_MODEL_49032de80ac44169b9a8337bed34ead2",
      "value": 1481
     }
    },
    "e4a56b5756c94cc68e6b4f9ba88f66e8": {
     "model_module": "@jupyter-widgets/controls",
     "model_module_version": "1.5.0",
     "model_name": "DescriptionStyleModel",
     "state": {
      "_model_module": "@jupyter-widgets/controls",
      "_model_module_version": "1.5.0",
      "_model_name": "DescriptionStyleModel",
      "_view_count": null,
      "_view_module": "@jupyter-widgets/base",
      "_view_module_version": "1.2.0",
      "_view_name": "StyleView",
      "description_width": ""
     }
    }
   }
  }
 },
 "nbformat": 4,
 "nbformat_minor": 5
}
